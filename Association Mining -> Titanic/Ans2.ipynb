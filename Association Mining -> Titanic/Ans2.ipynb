{
  "nbformat": 4,
  "nbformat_minor": 0,
  "metadata": {
    "colab": {
      "name": "Ans2.ipynb",
      "provenance": []
    },
    "kernelspec": {
      "name": "python3",
      "display_name": "Python 3"
    }
  },
  "cells": [
    {
      "cell_type": "code",
      "metadata": {
        "id": "kVAosIl2XOVl"
      },
      "source": [
        "import matplotlib.pyplot as plt\n",
        "import pandas as pd\n",
        "import seaborn as sns\n",
        "from mlxtend.preprocessing import TransactionEncoder\n",
        "from mlxtend.frequent_patterns import apriori, association_rules"
      ],
      "execution_count": 6,
      "outputs": []
    },
    {
      "cell_type": "code",
      "metadata": {
        "id": "aiSnd77HXcu9"
      },
      "source": [
        "titanic = pd.read_csv('train.csv')\n",
        "\n",
        "titanic['Age'].fillna(0, inplace=True)\n",
        "\n",
        "rep = {0: \"Dead\", 1: \"Survived\"}\n",
        "titanic.replace({'Survived' : rep}, inplace=True)\n"
      ],
      "execution_count": 2,
      "outputs": []
    },
    {
      "cell_type": "code",
      "metadata": {
        "colab": {
          "base_uri": "https://localhost:8080/"
        },
        "id": "j6woXNaYcRH3",
        "outputId": "07c719f0-162a-44d9-b36a-db5d0b834099"
      },
      "source": [
        "def age_r(col, points, labels=None):\n",
        "  minval = col.min()\n",
        "  maxval = col.max()\n",
        "  bp = [minval] + points + [maxval]\n",
        "  if not labels:\n",
        "    labels = range(len(points)+1)\n",
        "  buffer = pd.cut(col,bins=bp,include_lowest=True)\n",
        "  return buffer\n",
        "  \n",
        "pts = [1, 12, 21, 55 ]\n",
        "labels = [\"Unknown\", \"Child\", \"Teen\", \"Adult\", \"Old\"]\n",
        "titanic['Age'] = age_r(titanic['Age'], pts, labels)\n",
        "print(titanic)"
      ],
      "execution_count": 3,
      "outputs": [
        {
          "output_type": "stream",
          "text": [
            "     PassengerId  Survived  Pclass  ...     Fare Cabin Embarked\n",
            "0              1      Dead       3  ...   7.2500   NaN        S\n",
            "1              2  Survived       1  ...  71.2833   C85        C\n",
            "2              3  Survived       3  ...   7.9250   NaN        S\n",
            "3              4  Survived       1  ...  53.1000  C123        S\n",
            "4              5      Dead       3  ...   8.0500   NaN        S\n",
            "..           ...       ...     ...  ...      ...   ...      ...\n",
            "886          887      Dead       2  ...  13.0000   NaN        S\n",
            "887          888  Survived       1  ...  30.0000   B42        S\n",
            "888          889      Dead       3  ...  23.4500   NaN        S\n",
            "889          890  Survived       1  ...  30.0000  C148        C\n",
            "890          891      Dead       3  ...   7.7500   NaN        Q\n",
            "\n",
            "[891 rows x 12 columns]\n"
          ],
          "name": "stdout"
        }
      ]
    },
    {
      "cell_type": "code",
      "metadata": {
        "colab": {
          "base_uri": "https://localhost:8080/",
          "height": 419
        },
        "id": "r76xKarRcYaf",
        "outputId": "b34d4674-84f6-4f14-bc25-c9cbd810e4b9"
      },
      "source": [
        "in_titanic = titanic[['Pclass','Age', 'Survived', 'Sex']]\n",
        "in_titanic"
      ],
      "execution_count": 4,
      "outputs": [
        {
          "output_type": "execute_result",
          "data": {
            "text/html": [
              "<div>\n",
              "<style scoped>\n",
              "    .dataframe tbody tr th:only-of-type {\n",
              "        vertical-align: middle;\n",
              "    }\n",
              "\n",
              "    .dataframe tbody tr th {\n",
              "        vertical-align: top;\n",
              "    }\n",
              "\n",
              "    .dataframe thead th {\n",
              "        text-align: right;\n",
              "    }\n",
              "</style>\n",
              "<table border=\"1\" class=\"dataframe\">\n",
              "  <thead>\n",
              "    <tr style=\"text-align: right;\">\n",
              "      <th></th>\n",
              "      <th>Pclass</th>\n",
              "      <th>Age</th>\n",
              "      <th>Survived</th>\n",
              "      <th>Sex</th>\n",
              "    </tr>\n",
              "  </thead>\n",
              "  <tbody>\n",
              "    <tr>\n",
              "      <th>0</th>\n",
              "      <td>3</td>\n",
              "      <td>(21.0, 55.0]</td>\n",
              "      <td>Dead</td>\n",
              "      <td>male</td>\n",
              "    </tr>\n",
              "    <tr>\n",
              "      <th>1</th>\n",
              "      <td>1</td>\n",
              "      <td>(21.0, 55.0]</td>\n",
              "      <td>Survived</td>\n",
              "      <td>female</td>\n",
              "    </tr>\n",
              "    <tr>\n",
              "      <th>2</th>\n",
              "      <td>3</td>\n",
              "      <td>(21.0, 55.0]</td>\n",
              "      <td>Survived</td>\n",
              "      <td>female</td>\n",
              "    </tr>\n",
              "    <tr>\n",
              "      <th>3</th>\n",
              "      <td>1</td>\n",
              "      <td>(21.0, 55.0]</td>\n",
              "      <td>Survived</td>\n",
              "      <td>female</td>\n",
              "    </tr>\n",
              "    <tr>\n",
              "      <th>4</th>\n",
              "      <td>3</td>\n",
              "      <td>(21.0, 55.0]</td>\n",
              "      <td>Dead</td>\n",
              "      <td>male</td>\n",
              "    </tr>\n",
              "    <tr>\n",
              "      <th>...</th>\n",
              "      <td>...</td>\n",
              "      <td>...</td>\n",
              "      <td>...</td>\n",
              "      <td>...</td>\n",
              "    </tr>\n",
              "    <tr>\n",
              "      <th>886</th>\n",
              "      <td>2</td>\n",
              "      <td>(21.0, 55.0]</td>\n",
              "      <td>Dead</td>\n",
              "      <td>male</td>\n",
              "    </tr>\n",
              "    <tr>\n",
              "      <th>887</th>\n",
              "      <td>1</td>\n",
              "      <td>(12.0, 21.0]</td>\n",
              "      <td>Survived</td>\n",
              "      <td>female</td>\n",
              "    </tr>\n",
              "    <tr>\n",
              "      <th>888</th>\n",
              "      <td>3</td>\n",
              "      <td>(-0.001, 1.0]</td>\n",
              "      <td>Dead</td>\n",
              "      <td>female</td>\n",
              "    </tr>\n",
              "    <tr>\n",
              "      <th>889</th>\n",
              "      <td>1</td>\n",
              "      <td>(21.0, 55.0]</td>\n",
              "      <td>Survived</td>\n",
              "      <td>male</td>\n",
              "    </tr>\n",
              "    <tr>\n",
              "      <th>890</th>\n",
              "      <td>3</td>\n",
              "      <td>(21.0, 55.0]</td>\n",
              "      <td>Dead</td>\n",
              "      <td>male</td>\n",
              "    </tr>\n",
              "  </tbody>\n",
              "</table>\n",
              "<p>891 rows × 4 columns</p>\n",
              "</div>"
            ],
            "text/plain": [
              "     Pclass            Age  Survived     Sex\n",
              "0         3   (21.0, 55.0]      Dead    male\n",
              "1         1   (21.0, 55.0]  Survived  female\n",
              "2         3   (21.0, 55.0]  Survived  female\n",
              "3         1   (21.0, 55.0]  Survived  female\n",
              "4         3   (21.0, 55.0]      Dead    male\n",
              "..      ...            ...       ...     ...\n",
              "886       2   (21.0, 55.0]      Dead    male\n",
              "887       1   (12.0, 21.0]  Survived  female\n",
              "888       3  (-0.001, 1.0]      Dead  female\n",
              "889       1   (21.0, 55.0]  Survived    male\n",
              "890       3   (21.0, 55.0]      Dead    male\n",
              "\n",
              "[891 rows x 4 columns]"
            ]
          },
          "metadata": {
            "tags": []
          },
          "execution_count": 4
        }
      ]
    },
    {
      "cell_type": "code",
      "metadata": {
        "colab": {
          "base_uri": "https://localhost:8080/",
          "height": 301
        },
        "id": "PIb7-lNXdrdu",
        "outputId": "11e539bc-d909-4a71-a33b-f2ac2b39fe95"
      },
      "source": [
        "sns.set(style=\"whitegrid\")\n",
        "ax = sns.countplot(y='Sex', hue=\"Survived\", data=titanic)\n",
        "plt.ylabel('Sex')\n",
        "plt.title('Survival Plot')\n",
        "plt.show()"
      ],
      "execution_count": 8,
      "outputs": [
        {
          "output_type": "display_data",
          "data": {
            "image/png": "[encoded data removed]",
            "text/plain": [
              "<Figure size 432x288 with 1 Axes>"
            ]
          },
          "metadata": {
            "tags": []
          }
        }
      ]
    },
    {
      "cell_type": "code",
      "metadata": {
        "colab": {
          "base_uri": "https://localhost:8080/",
          "height": 204
        },
        "id": "v1jt0t3edwN6",
        "outputId": "9be67f10-f639-4032-ead5-0748b4520d95"
      },
      "source": [
        "dataset = []\n",
        "for i in range(0, in_titanic.shape[0]-1):\n",
        "    dataset.append([str(in_titanic.values[i,j]) for j in range(0, in_titanic.shape[1])])\n",
        "\n",
        "oht = TransactionEncoder()\n",
        "oht_ary = oht.fit(dataset).transform(dataset)\n",
        "df = pd.DataFrame(oht_ary, columns=oht.columns_)\n",
        "df.head()"
      ],
      "execution_count": 9,
      "outputs": [
        {
          "output_type": "execute_result",
          "data": {
            "text/html": [
              "<div>\n",
              "<style scoped>\n",
              "    .dataframe tbody tr th:only-of-type {\n",
              "        vertical-align: middle;\n",
              "    }\n",
              "\n",
              "    .dataframe tbody tr th {\n",
              "        vertical-align: top;\n",
              "    }\n",
              "\n",
              "    .dataframe thead th {\n",
              "        text-align: right;\n",
              "    }\n",
              "</style>\n",
              "<table border=\"1\" class=\"dataframe\">\n",
              "  <thead>\n",
              "    <tr style=\"text-align: right;\">\n",
              "      <th></th>\n",
              "      <th>(-0.001, 1.0]</th>\n",
              "      <th>(1.0, 12.0]</th>\n",
              "      <th>(12.0, 21.0]</th>\n",
              "      <th>(21.0, 55.0]</th>\n",
              "      <th>(55.0, 80.0]</th>\n",
              "      <th>1</th>\n",
              "      <th>2</th>\n",
              "      <th>3</th>\n",
              "      <th>Dead</th>\n",
              "      <th>Survived</th>\n",
              "      <th>female</th>\n",
              "      <th>male</th>\n",
              "    </tr>\n",
              "  </thead>\n",
              "  <tbody>\n",
              "    <tr>\n",
              "      <th>0</th>\n",
              "      <td>False</td>\n",
              "      <td>False</td>\n",
              "      <td>False</td>\n",
              "      <td>True</td>\n",
              "      <td>False</td>\n",
              "      <td>False</td>\n",
              "      <td>False</td>\n",
              "      <td>True</td>\n",
              "      <td>True</td>\n",
              "      <td>False</td>\n",
              "      <td>False</td>\n",
              "      <td>True</td>\n",
              "    </tr>\n",
              "    <tr>\n",
              "      <th>1</th>\n",
              "      <td>False</td>\n",
              "      <td>False</td>\n",
              "      <td>False</td>\n",
              "      <td>True</td>\n",
              "      <td>False</td>\n",
              "      <td>True</td>\n",
              "      <td>False</td>\n",
              "      <td>False</td>\n",
              "      <td>False</td>\n",
              "      <td>True</td>\n",
              "      <td>True</td>\n",
              "      <td>False</td>\n",
              "    </tr>\n",
              "    <tr>\n",
              "      <th>2</th>\n",
              "      <td>False</td>\n",
              "      <td>False</td>\n",
              "      <td>False</td>\n",
              "      <td>True</td>\n",
              "      <td>False</td>\n",
              "      <td>False</td>\n",
              "      <td>False</td>\n",
              "      <td>True</td>\n",
              "      <td>False</td>\n",
              "      <td>True</td>\n",
              "      <td>True</td>\n",
              "      <td>False</td>\n",
              "    </tr>\n",
              "    <tr>\n",
              "      <th>3</th>\n",
              "      <td>False</td>\n",
              "      <td>False</td>\n",
              "      <td>False</td>\n",
              "      <td>True</td>\n",
              "      <td>False</td>\n",
              "      <td>True</td>\n",
              "      <td>False</td>\n",
              "      <td>False</td>\n",
              "      <td>False</td>\n",
              "      <td>True</td>\n",
              "      <td>True</td>\n",
              "      <td>False</td>\n",
              "    </tr>\n",
              "    <tr>\n",
              "      <th>4</th>\n",
              "      <td>False</td>\n",
              "      <td>False</td>\n",
              "      <td>False</td>\n",
              "      <td>True</td>\n",
              "      <td>False</td>\n",
              "      <td>False</td>\n",
              "      <td>False</td>\n",
              "      <td>True</td>\n",
              "      <td>True</td>\n",
              "      <td>False</td>\n",
              "      <td>False</td>\n",
              "      <td>True</td>\n",
              "    </tr>\n",
              "  </tbody>\n",
              "</table>\n",
              "</div>"
            ],
            "text/plain": [
              "   (-0.001, 1.0]  (1.0, 12.0]  (12.0, 21.0]  ...  Survived  female   male\n",
              "0          False        False         False  ...     False   False   True\n",
              "1          False        False         False  ...      True    True  False\n",
              "2          False        False         False  ...      True    True  False\n",
              "3          False        False         False  ...      True    True  False\n",
              "4          False        False         False  ...     False   False   True\n",
              "\n",
              "[5 rows x 12 columns]"
            ]
          },
          "metadata": {
            "tags": []
          },
          "execution_count": 9
        }
      ]
    },
    {
      "cell_type": "code",
      "metadata": {
        "colab": {
          "base_uri": "https://localhost:8080/"
        },
        "id": "65VTuDs4eAZy",
        "outputId": "d95ed947-7521-4776-ac66-c78fdf0fb732"
      },
      "source": [
        "output = apriori(df, min_support=0.2, use_colnames=oht.columns_)\n",
        "\n",
        "print ('Support of 0.2')\n",
        "print(association_rules(output, 'support' , min_threshold=0.5))\n",
        "print ('Confidence of 0.8')\n",
        "print(association_rules(output, 'confidence' , min_threshold=0.8))\n"
      ],
      "execution_count": 10,
      "outputs": [
        {
          "output_type": "stream",
          "text": [
            "Support of 0.2\n",
            "  antecedents consequents  antecedent support  ...      lift  leverage  conviction\n",
            "0      (Dead)      (male)            0.615730  ...  1.316752  0.126224    2.386905\n",
            "1      (male)      (Dead)            0.647191  ...  1.316752  0.126224    2.030636\n",
            "\n",
            "[2 rows x 9 columns]\n",
            "Confidence of 0.8\n",
            "            antecedents consequents  ...  leverage  conviction\n",
            "0                (Dead)      (male)  ...  0.126224    2.386905\n",
            "1                (male)      (Dead)  ...  0.126224    2.030636\n",
            "2  (Dead, (21.0, 55.0])      (male)  ...  0.069754    2.724469\n",
            "3  (male, (21.0, 55.0])      (Dead)  ...  0.063669    1.960427\n",
            "4             (3, Dead)      (male)  ...  0.066171    1.817946\n",
            "5             (3, male)      (Dead)  ...  0.096581    2.828879\n",
            "\n",
            "[6 rows x 9 columns]\n"
          ],
          "name": "stdout"
        }
      ]
    }
  ]
}