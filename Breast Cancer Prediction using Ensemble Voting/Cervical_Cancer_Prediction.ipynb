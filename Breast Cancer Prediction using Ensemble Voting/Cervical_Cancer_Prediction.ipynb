{
 "cells": [
  {
   "cell_type": "code",
   "execution_count": 1,
   "metadata": {},
   "outputs": [],
   "source": [
    "import numpy as np\n",
    "import pandas as pd \n",
    "from texttable import Texttable\n",
    "import seaborn as sns\n",
    "import warnings\n",
    "warnings.filterwarnings(\"ignore\")\n",
    "import matplotlib.pyplot as plotting\n",
    "from sklearn.decomposition import PCA\n",
    "from sklearn import preprocessing\n",
    "from sklearn.model_selection import train_test_split"
   ]
  },
  {
   "cell_type": "code",
   "execution_count": 2,
   "metadata": {},
   "outputs": [
    {
     "name": "stdout",
     "output_type": "stream",
     "text": [
      "   Age Number of sexual partners First sexual intercourse Num of pregnancies  \\\n",
      "0   18                       4.0                     15.0                1.0   \n",
      "1   15                       1.0                     14.0                1.0   \n",
      "2   34                       1.0                        ?                1.0   \n",
      "3   52                       5.0                     16.0                4.0   \n",
      "4   46                       3.0                     21.0                4.0   \n",
      "\n",
      "  Smokes Smokes (years) Smokes (packs/year) Hormonal Contraceptives  \\\n",
      "0    0.0            0.0                 0.0                     0.0   \n",
      "1    0.0            0.0                 0.0                     0.0   \n",
      "2    0.0            0.0                 0.0                     0.0   \n",
      "3    1.0           37.0                37.0                     1.0   \n",
      "4    0.0            0.0                 0.0                     1.0   \n",
      "\n",
      "  Hormonal Contraceptives (years)  IUD IUD (years) STDs STDs (number)  \\\n",
      "0                             0.0  0.0         0.0  0.0           0.0   \n",
      "1                             0.0  0.0         0.0  0.0           0.0   \n",
      "2                             0.0  0.0         0.0  0.0           0.0   \n",
      "3                             3.0  0.0         0.0  0.0           0.0   \n",
      "4                            15.0  0.0         0.0  0.0           0.0   \n",
      "\n",
      "  STDs:condylomatosis STDs:cervical condylomatosis  \\\n",
      "0                 0.0                          0.0   \n",
      "1                 0.0                          0.0   \n",
      "2                 0.0                          0.0   \n",
      "3                 0.0                          0.0   \n",
      "4                 0.0                          0.0   \n",
      "\n",
      "  STDs:vaginal condylomatosis STDs:vulvo-perineal condylomatosis  \\\n",
      "0                         0.0                                0.0   \n",
      "1                         0.0                                0.0   \n",
      "2                         0.0                                0.0   \n",
      "3                         0.0                                0.0   \n",
      "4                         0.0                                0.0   \n",
      "\n",
      "  STDs:syphilis STDs:pelvic inflammatory disease STDs:genital herpes  \\\n",
      "0           0.0                              0.0                 0.0   \n",
      "1           0.0                              0.0                 0.0   \n",
      "2           0.0                              0.0                 0.0   \n",
      "3           0.0                              0.0                 0.0   \n",
      "4           0.0                              0.0                 0.0   \n",
      "\n",
      "  STDs:molluscum contagiosum STDs:AIDS STDs:HIV STDs:Hepatitis B STDs:HPV  \\\n",
      "0                        0.0       0.0      0.0              0.0      0.0   \n",
      "1                        0.0       0.0      0.0              0.0      0.0   \n",
      "2                        0.0       0.0      0.0              0.0      0.0   \n",
      "3                        0.0       0.0      0.0              0.0      0.0   \n",
      "4                        0.0       0.0      0.0              0.0      0.0   \n",
      "\n",
      "   STDs: Number of diagnosis STDs: Time since first diagnosis  \\\n",
      "0                          0                                ?   \n",
      "1                          0                                ?   \n",
      "2                          0                                ?   \n",
      "3                          0                                ?   \n",
      "4                          0                                ?   \n",
      "\n",
      "  STDs: Time since last diagnosis  Dx:Cancer  Dx:CIN  Dx:HPV  Dx  Hinselmann  \\\n",
      "0                               ?          0       0       0   0           0   \n",
      "1                               ?          0       0       0   0           0   \n",
      "2                               ?          0       0       0   0           0   \n",
      "3                               ?          1       0       1   0           0   \n",
      "4                               ?          0       0       0   0           0   \n",
      "\n",
      "   Schiller  Citology  Biopsy  \n",
      "0         0         0       0  \n",
      "1         0         0       0  \n",
      "2         0         0       0  \n",
      "3         0         0       0  \n",
      "4         0         0       0  \n",
      "\n",
      "\n"
     ]
    }
   ],
   "source": [
    "pd.set_option('display.max_columns', None)\n",
    "pd.set_option('max_colwidth', None)\n",
    "\n",
    "cervical_cancer = pd.read_csv('kag_risk_factors_cervical_cancer.csv')\n",
    "print(cervical_cancer.head())\n",
    "print(\"\\n\")"
   ]
  },
  {
   "cell_type": "code",
   "execution_count": 3,
   "metadata": {},
   "outputs": [
    {
     "name": "stdout",
     "output_type": "stream",
     "text": [
      "Age                                    int64\n",
      "Number of sexual partners             object\n",
      "First sexual intercourse              object\n",
      "Num of pregnancies                    object\n",
      "Smokes                                object\n",
      "Smokes (years)                        object\n",
      "Smokes (packs/year)                   object\n",
      "Hormonal Contraceptives               object\n",
      "Hormonal Contraceptives (years)       object\n",
      "IUD                                   object\n",
      "IUD (years)                           object\n",
      "STDs                                  object\n",
      "STDs (number)                         object\n",
      "STDs:condylomatosis                   object\n",
      "STDs:cervical condylomatosis          object\n",
      "STDs:vaginal condylomatosis           object\n",
      "STDs:vulvo-perineal condylomatosis    object\n",
      "STDs:syphilis                         object\n",
      "STDs:pelvic inflammatory disease      object\n",
      "STDs:genital herpes                   object\n",
      "STDs:molluscum contagiosum            object\n",
      "STDs:AIDS                             object\n",
      "STDs:HIV                              object\n",
      "STDs:Hepatitis B                      object\n",
      "STDs:HPV                              object\n",
      "STDs: Number of diagnosis              int64\n",
      "STDs: Time since first diagnosis      object\n",
      "STDs: Time since last diagnosis       object\n",
      "Dx:Cancer                              int64\n",
      "Dx:CIN                                 int64\n",
      "Dx:HPV                                 int64\n",
      "Dx                                     int64\n",
      "Hinselmann                             int64\n",
      "Schiller                               int64\n",
      "Citology                               int64\n",
      "Biopsy                                 int64\n",
      "dtype: object\n",
      "\n",
      "\n",
      "Age                                     int64\n",
      "Number of sexual partners             float64\n",
      "First sexual intercourse              float64\n",
      "Num of pregnancies                    float64\n",
      "Smokes                                float64\n",
      "Smokes (years)                        float64\n",
      "Smokes (packs/year)                   float64\n",
      "Hormonal Contraceptives               float64\n",
      "Hormonal Contraceptives (years)       float64\n",
      "IUD                                   float64\n",
      "IUD (years)                           float64\n",
      "STDs                                  float64\n",
      "STDs (number)                         float64\n",
      "STDs:condylomatosis                   float64\n",
      "STDs:cervical condylomatosis          float64\n",
      "STDs:vaginal condylomatosis           float64\n",
      "STDs:vulvo-perineal condylomatosis    float64\n",
      "STDs:syphilis                         float64\n",
      "STDs:pelvic inflammatory disease      float64\n",
      "STDs:genital herpes                   float64\n",
      "STDs:molluscum contagiosum            float64\n",
      "STDs:AIDS                             float64\n",
      "STDs:HIV                              float64\n",
      "STDs:Hepatitis B                      float64\n",
      "STDs:HPV                              float64\n",
      "STDs: Number of diagnosis               int64\n",
      "STDs: Time since first diagnosis      float64\n",
      "STDs: Time since last diagnosis       float64\n",
      "Dx:Cancer                               int64\n",
      "Dx:CIN                                  int64\n",
      "Dx:HPV                                  int64\n",
      "Dx                                      int64\n",
      "Hinselmann                              int64\n",
      "Schiller                                int64\n",
      "Citology                                int64\n",
      "Biopsy                                  int64\n",
      "dtype: object\n",
      "\n",
      "\n"
     ]
    }
   ],
   "source": [
    "#CHECKING FOR DATATYPES\n",
    "print(cervical_cancer.dtypes)\n",
    "print(\"\\n\")\n",
    "\n",
    "#CONVERTING THEM FROM OBJECT TO RESPECTIVE DATATYPES\n",
    "for i in range(1,28):\n",
    "    cervical_cancer.iloc[:,i]=pd.to_numeric(cervical_cancer.iloc[:,i], errors='coerce')\n",
    "print(cervical_cancer.dtypes)\n",
    "print(\"\\n\")"
   ]
  },
  {
   "cell_type": "code",
   "execution_count": 4,
   "metadata": {},
   "outputs": [
    {
     "name": "stdout",
     "output_type": "stream",
     "text": [
      "+------------------------------------+-------------------+\n",
      "|              Feature               | Null Values count |\n",
      "+====================================+===================+\n",
      "| Age                                | 0                 |\n",
      "+------------------------------------+-------------------+\n",
      "| Number of sexual partners          | 26                |\n",
      "+------------------------------------+-------------------+\n",
      "| First sexual intercourse           | 7                 |\n",
      "+------------------------------------+-------------------+\n",
      "| Num of pregnancies                 | 56                |\n",
      "+------------------------------------+-------------------+\n",
      "| Smokes                             | 13                |\n",
      "+------------------------------------+-------------------+\n",
      "| Smokes (years)                     | 13                |\n",
      "+------------------------------------+-------------------+\n",
      "| Smokes (packs/year)                | 13                |\n",
      "+------------------------------------+-------------------+\n",
      "| Hormonal Contraceptives            | 108               |\n",
      "+------------------------------------+-------------------+\n",
      "| Hormonal Contraceptives (years)    | 108               |\n",
      "+------------------------------------+-------------------+\n",
      "| IUD                                | 117               |\n",
      "+------------------------------------+-------------------+\n",
      "| IUD (years)                        | 117               |\n",
      "+------------------------------------+-------------------+\n",
      "| STDs                               | 105               |\n",
      "+------------------------------------+-------------------+\n",
      "| STDs (number)                      | 105               |\n",
      "+------------------------------------+-------------------+\n",
      "| STDs:condylomatosis                | 105               |\n",
      "+------------------------------------+-------------------+\n",
      "| STDs:cervical condylomatosis       | 105               |\n",
      "+------------------------------------+-------------------+\n",
      "| STDs:vaginal condylomatosis        | 105               |\n",
      "+------------------------------------+-------------------+\n",
      "| STDs:vulvo-perineal condylomatosis | 105               |\n",
      "+------------------------------------+-------------------+\n",
      "| STDs:syphilis                      | 105               |\n",
      "+------------------------------------+-------------------+\n",
      "| STDs:pelvic inflammatory disease   | 105               |\n",
      "+------------------------------------+-------------------+\n",
      "| STDs:genital herpes                | 105               |\n",
      "+------------------------------------+-------------------+\n",
      "| STDs:molluscum contagiosum         | 105               |\n",
      "+------------------------------------+-------------------+\n",
      "| STDs:AIDS                          | 105               |\n",
      "+------------------------------------+-------------------+\n",
      "| STDs:HIV                           | 105               |\n",
      "+------------------------------------+-------------------+\n",
      "| STDs:Hepatitis B                   | 105               |\n",
      "+------------------------------------+-------------------+\n",
      "| STDs:HPV                           | 105               |\n",
      "+------------------------------------+-------------------+\n",
      "| STDs: Number of diagnosis          | 0                 |\n",
      "+------------------------------------+-------------------+\n",
      "| STDs: Time since first diagnosis   | 787               |\n",
      "+------------------------------------+-------------------+\n",
      "| STDs: Time since last diagnosis    | 787               |\n",
      "+------------------------------------+-------------------+\n",
      "| Dx:Cancer                          | 0                 |\n",
      "+------------------------------------+-------------------+\n",
      "| Dx:CIN                             | 0                 |\n",
      "+------------------------------------+-------------------+\n",
      "| Dx:HPV                             | 0                 |\n",
      "+------------------------------------+-------------------+\n",
      "| Dx                                 | 0                 |\n",
      "+------------------------------------+-------------------+\n",
      "| Hinselmann                         | 0                 |\n",
      "+------------------------------------+-------------------+\n",
      "| Schiller                           | 0                 |\n",
      "+------------------------------------+-------------------+\n",
      "| Citology                           | 0                 |\n",
      "+------------------------------------+-------------------+\n",
      "| Biopsy                             | 0                 |\n",
      "+------------------------------------+-------------------+\n",
      "\n",
      "\n"
     ]
    }
   ],
   "source": [
    "#CHECKING FOR NULL VALUES\n",
    "\n",
    "full_headers = cervical_cancer.columns\n",
    "values = list(cervical_cancer.isnull().sum())\n",
    "nullList = []\n",
    "nullList.append(['Feature','Null Values count'])\n",
    "for i in range(len(full_headers)):\n",
    "    nullList.append([full_headers[i],values[i]])\n",
    "\n",
    "table = Texttable()\n",
    "table.add_rows(nullList)\n",
    "print(table.draw())    \n",
    "print(\"\\n\")"
   ]
  },
  {
   "cell_type": "code",
   "execution_count": 5,
   "metadata": {},
   "outputs": [
    {
     "name": "stdout",
     "output_type": "stream",
     "text": [
      "+------------------------------------+-------------------+\n",
      "|              Feature               | Null Values count |\n",
      "+====================================+===================+\n",
      "| Age                                | 0                 |\n",
      "+------------------------------------+-------------------+\n",
      "| Number of sexual partners          | 0                 |\n",
      "+------------------------------------+-------------------+\n",
      "| First sexual intercourse           | 0                 |\n",
      "+------------------------------------+-------------------+\n",
      "| Num of pregnancies                 | 0                 |\n",
      "+------------------------------------+-------------------+\n",
      "| Smokes                             | 0                 |\n",
      "+------------------------------------+-------------------+\n",
      "| Smokes (years)                     | 0                 |\n",
      "+------------------------------------+-------------------+\n",
      "| Smokes (packs/year)                | 0                 |\n",
      "+------------------------------------+-------------------+\n",
      "| Hormonal Contraceptives            | 0                 |\n",
      "+------------------------------------+-------------------+\n",
      "| Hormonal Contraceptives (years)    | 0                 |\n",
      "+------------------------------------+-------------------+\n",
      "| IUD                                | 0                 |\n",
      "+------------------------------------+-------------------+\n",
      "| IUD (years)                        | 0                 |\n",
      "+------------------------------------+-------------------+\n",
      "| STDs                               | 0                 |\n",
      "+------------------------------------+-------------------+\n",
      "| STDs (number)                      | 0                 |\n",
      "+------------------------------------+-------------------+\n",
      "| STDs:condylomatosis                | 0                 |\n",
      "+------------------------------------+-------------------+\n",
      "| STDs:cervical condylomatosis       | 0                 |\n",
      "+------------------------------------+-------------------+\n",
      "| STDs:vaginal condylomatosis        | 0                 |\n",
      "+------------------------------------+-------------------+\n",
      "| STDs:vulvo-perineal condylomatosis | 0                 |\n",
      "+------------------------------------+-------------------+\n",
      "| STDs:syphilis                      | 0                 |\n",
      "+------------------------------------+-------------------+\n",
      "| STDs:pelvic inflammatory disease   | 0                 |\n",
      "+------------------------------------+-------------------+\n",
      "| STDs:genital herpes                | 0                 |\n",
      "+------------------------------------+-------------------+\n",
      "| STDs:molluscum contagiosum         | 0                 |\n",
      "+------------------------------------+-------------------+\n",
      "| STDs:AIDS                          | 0                 |\n",
      "+------------------------------------+-------------------+\n",
      "| STDs:HIV                           | 0                 |\n",
      "+------------------------------------+-------------------+\n",
      "| STDs:Hepatitis B                   | 0                 |\n",
      "+------------------------------------+-------------------+\n",
      "| STDs:HPV                           | 0                 |\n",
      "+------------------------------------+-------------------+\n",
      "| STDs: Number of diagnosis          | 0                 |\n",
      "+------------------------------------+-------------------+\n",
      "| STDs: Time since first diagnosis   | 0                 |\n",
      "+------------------------------------+-------------------+\n",
      "| STDs: Time since last diagnosis    | 0                 |\n",
      "+------------------------------------+-------------------+\n",
      "| Dx:Cancer                          | 0                 |\n",
      "+------------------------------------+-------------------+\n",
      "| Dx:CIN                             | 0                 |\n",
      "+------------------------------------+-------------------+\n",
      "| Dx:HPV                             | 0                 |\n",
      "+------------------------------------+-------------------+\n",
      "| Dx                                 | 0                 |\n",
      "+------------------------------------+-------------------+\n",
      "| Hinselmann                         | 0                 |\n",
      "+------------------------------------+-------------------+\n",
      "| Schiller                           | 0                 |\n",
      "+------------------------------------+-------------------+\n",
      "| Citology                           | 0                 |\n",
      "+------------------------------------+-------------------+\n",
      "| Biopsy                             | 0                 |\n",
      "+------------------------------------+-------------------+\n",
      "\n",
      "\n"
     ]
    }
   ],
   "source": [
    "#DATA IMPUTATION\n",
    "\n",
    "cervical_cancer['Number of sexual partners'].fillna(cervical_cancer['Number of sexual partners'].median(), inplace=True)\n",
    "cervical_cancer['First sexual intercourse'].fillna(cervical_cancer['First sexual intercourse'].median(), inplace=True)\n",
    "cervical_cancer['Num of pregnancies'].fillna(cervical_cancer['Num of pregnancies'].median(), inplace=True)\n",
    "cervical_cancer['Smokes (years)'].fillna(cervical_cancer['Smokes (years)'].median(), inplace=True)\n",
    "cervical_cancer['Smokes (packs/year)'].fillna(cervical_cancer['Smokes (packs/year)'].median(), inplace=True)\n",
    "cervical_cancer['Hormonal Contraceptives (years)'].fillna(cervical_cancer['Hormonal Contraceptives (years)'].median(), inplace=True)\n",
    "cervical_cancer['STDs (number)'].fillna(cervical_cancer['STDs (number)'].median(), inplace=True)\n",
    "cervical_cancer['STDs: Time since first diagnosis'].fillna(cervical_cancer['STDs: Time since first diagnosis'].median(), inplace=True)\n",
    "cervical_cancer['STDs: Time since last diagnosis'].fillna(cervical_cancer['STDs: Time since last diagnosis'].median(), inplace=True)\n",
    "cervical_cancer['IUD (years)'].fillna(cervical_cancer['IUD (years)'].median(), inplace=True)\n",
    "\n",
    "#Discrete variable imputation (without population estimates)\n",
    "cervical_cancer['STDs:condylomatosis'].fillna(cervical_cancer['STDs:condylomatosis'].median(), inplace=True)\n",
    "cervical_cancer['STDs:cervical condylomatosis'].fillna(cervical_cancer['STDs:cervical condylomatosis'].median(), inplace=True)\n",
    "cervical_cancer['STDs:vaginal condylomatosis'].fillna(cervical_cancer['STDs:vaginal condylomatosis'].median(), inplace=True)\n",
    "cervical_cancer['STDs:vulvo-perineal condylomatosis'].fillna(cervical_cancer['STDs:vulvo-perineal condylomatosis'].median(), inplace=True)\n",
    "cervical_cancer['STDs:syphilis'].fillna(cervical_cancer['STDs:syphilis'].median(), inplace=True)\n",
    "cervical_cancer['STDs:molluscum contagiosum'].fillna(cervical_cancer['STDs:molluscum contagiosum'].median(), inplace=True)\n",
    "cervical_cancer['STDs'].fillna(cervical_cancer['STDs'].median(), inplace=True)\n",
    "cervical_cancer['STDs:AIDS'].fillna(cervical_cancer['STDs:AIDS'].median(), inplace=True)\n",
    "cervical_cancer['STDs:HIV'].fillna(cervical_cancer['STDs:HIV'].median(), inplace=True)\n",
    "\n",
    "\n",
    "#Discrete variable imputation (with population estimates)\n",
    "s = int(.136*cervical_cancer.shape[0])\n",
    "smokes = np.hstack((np.ones(s), np.zeros(cervical_cancer.shape[0]-s)))\n",
    "np.random.shuffle(smokes)\n",
    "cervical_cancer['Smokes'].fillna(pd.Series(smokes), axis=0, inplace=True)\n",
    "\n",
    "s = int(.103*cervical_cancer.shape[0])\n",
    "iud = np.hstack((np.ones(s), np.zeros(cervical_cancer.shape[0]-s)))\n",
    "np.random.shuffle(iud)\n",
    "cervical_cancer['IUD'].fillna(pd.Series(iud), axis=0, inplace=True)\n",
    "\n",
    "s = int(.229*cervical_cancer.shape[0])\n",
    "hc = np.hstack((np.ones(s), np.zeros(cervical_cancer.shape[0]-s)))\n",
    "np.random.shuffle(hc)\n",
    "cervical_cancer['Hormonal Contraceptives'].fillna(pd.Series(hc), axis=0, inplace=True)\n",
    "\n",
    "s = int(.399*cervical_cancer.shape[0])\n",
    "hpv = np.hstack((np.ones(s), np.zeros(cervical_cancer.shape[0]-s)))\n",
    "np.random.shuffle(hpv)\n",
    "cervical_cancer['STDs:HPV'].fillna(pd.Series(hpv), axis=0, inplace=True)\n",
    "\n",
    "s = int(.034*cervical_cancer.shape[0])\n",
    "hep = np.hstack((np.ones(s), np.zeros(cervical_cancer.shape[0]-s)))\n",
    "np.random.shuffle(hep)\n",
    "cervical_cancer['STDs:Hepatitis B'].fillna(pd.Series(hep), axis=0, inplace=True)\n",
    "\n",
    "s = int(.159*cervical_cancer.shape[0])\n",
    "gen = np.hstack((np.ones(s), np.zeros(cervical_cancer.shape[0]-s)))\n",
    "np.random.shuffle(gen)\n",
    "cervical_cancer['STDs:genital herpes'].fillna(pd.Series(gen), axis=0, inplace=True)\n",
    "\n",
    "s = int(.044*cervical_cancer.shape[0])\n",
    "pid = np.hstack((np.ones(s), np.zeros(cervical_cancer.shape[0]-s)))\n",
    "np.random.shuffle(pid)\n",
    "cervical_cancer['STDs:pelvic inflammatory disease'].fillna(pd.Series(pid), axis=0, inplace=True)\n",
    "\n",
    "\n",
    "#NULL VALUES AFTER DATA IMPUTATION\n",
    "full_headers = cervical_cancer.columns\n",
    "values = list(cervical_cancer.isnull().sum())\n",
    "nullList = []\n",
    "nullList.append(['Feature','Null Values count'])\n",
    "for i in range(len(full_headers)):\n",
    "    nullList.append([full_headers[i],values[i]])\n",
    "\n",
    "table = Texttable()\n",
    "table.add_rows(nullList)\n",
    "print(table.draw())    \n",
    "print(\"\\n\")"
   ]
  },
  {
   "cell_type": "code",
   "execution_count": 6,
   "metadata": {},
   "outputs": [],
   "source": [
    "#IMPORTING DATA\n",
    "\n",
    "predictors = cervical_cancer.columns[0:35]\n",
    "crux = \"Biopsy\"\n",
    "\n",
    "X_s = cervical_cancer.loc[:,predictors]\n",
    "Y_s = np.ravel(cervical_cancer.loc[:,[crux]])\n",
    "X = cervical_cancer.loc[:,predictors]\n",
    "Y = np.ravel(cervical_cancer.loc[:,[crux]])"
   ]
  },
  {
   "cell_type": "code",
   "execution_count": 7,
   "metadata": {},
   "outputs": [
    {
     "name": "stdout",
     "output_type": "stream",
     "text": [
      "Benchmark-> Accuracy before Norm and PCA:- 95.11\n"
     ]
    }
   ],
   "source": [
    "#RANDOM FOREST BEFORE NORMALIZATION AND PCA - > BENCHMARK\n",
    "\n",
    "from sklearn.ensemble import RandomForestClassifier\n",
    "from sklearn.model_selection import  cross_val_score, cross_val_predict\n",
    "\n",
    "rf = RandomForestClassifier()\n",
    "sc = cross_val_score(rf, X_s, Y_s, scoring='accuracy').mean()\n",
    "print(\"Benchmark-> Accuracy before Norm and PCA:- %s\"%round(sc*100,2))"
   ]
  },
  {
   "cell_type": "code",
   "execution_count": 8,
   "metadata": {},
   "outputs": [
    {
     "name": "stdout",
     "output_type": "stream",
     "text": [
      "{0: 803, 1: 55}\n"
     ]
    },
    {
     "data": {
      "image/png": "[encoded data removed]",
      "text/plain": [
       "<Figure size 432x288 with 1 Axes>"
      ]
     },
     "metadata": {
      "needs_background": "light"
     },
     "output_type": "display_data"
    }
   ],
   "source": [
    "#CHECKING FOR CLASS IMBALANCE\n",
    "\n",
    "imbalance = dict(cervical_cancer['Biopsy'].value_counts())\n",
    "print(imbalance)\n",
    "\n",
    "cervical_cancer.Biopsy.value_counts().plot(kind='bar')\n",
    "plotting.title(\"Cancer Risk -> Yes=1 , No=0\")\n",
    "plotting.ylabel(\"Total Number of Women\")\n",
    "plotting.show()"
   ]
  },
  {
   "cell_type": "code",
   "execution_count": 9,
   "metadata": {},
   "outputs": [
    {
     "data": {
      "image/png": "[encoded data removed]",
      "text/plain": [
       "<Figure size 432x288 with 1 Axes>"
      ]
     },
     "metadata": {
      "needs_background": "light"
     },
     "output_type": "display_data"
    },
    {
     "name": "stdout",
     "output_type": "stream",
     "text": [
      "\n",
      "\n"
     ]
    },
    {
     "data": {
      "image/png": "[encoded data removed]",
      "text/plain": [
       "<Figure size 432x288 with 1 Axes>"
      ]
     },
     "metadata": {
      "needs_background": "light"
     },
     "output_type": "display_data"
    },
    {
     "name": "stdout",
     "output_type": "stream",
     "text": [
      "\n",
      "\n"
     ]
    }
   ],
   "source": [
    "sns.swarmplot(y='Age',x='Biopsy', data=cervical_cancer)\n",
    "plotting.show()\n",
    "print(\"\\n\")\n",
    "\n",
    "sns.swarmplot(y='Num of pregnancies',x='Biopsy', data=cervical_cancer)\n",
    "plotting.show()\n",
    "print(\"\\n\")"
   ]
  },
  {
   "cell_type": "code",
   "execution_count": 10,
   "metadata": {},
   "outputs": [
    {
     "name": "stdout",
     "output_type": "stream",
     "text": [
      "\n",
      "The histograms of the attributes are given below:\n"
     ]
    },
    {
     "data": {
      "image/png": "[encoded data removed]",
      "text/plain": [
       "<Figure size 1440x1440 with 36 Axes>"
      ]
     },
     "metadata": {
      "needs_background": "light"
     },
     "output_type": "display_data"
    },
    {
     "name": "stdout",
     "output_type": "stream",
     "text": [
      "\n",
      "\n"
     ]
    }
   ],
   "source": [
    "#CHECKING FOR NORMALIZATION\n",
    "\n",
    "print(\"\\nThe histograms of the attributes are given below:\")\n",
    "cervical_cancer.hist(bins=5,grid=False,layout=[6,6],figsize=[20,20])\n",
    "plotting.show()\n",
    "print(\"\\n\")"
   ]
  },
  {
   "cell_type": "code",
   "execution_count": 11,
   "metadata": {},
   "outputs": [
    {
     "name": "stdout",
     "output_type": "stream",
     "text": [
      "The correlation heatmap is shown below:\n"
     ]
    },
    {
     "data": {
      "image/png": "[encoded data removed]",
      "text/plain": [
       "<Figure size 432x288 with 2 Axes>"
      ]
     },
     "metadata": {
      "needs_background": "light"
     },
     "output_type": "display_data"
    },
    {
     "name": "stdout",
     "output_type": "stream",
     "text": [
      "\n",
      "\n"
     ]
    }
   ],
   "source": [
    "#CHECKING FOR CORRELATION\n",
    "print(\"The correlation heatmap is shown below:\")\n",
    "\n",
    "c_corr = cervical_cancer.drop(['STDs','STDs (number)','STDs:condylomatosis','STDs:cervical condylomatosis',\n",
    "                               'STDs:vaginal condylomatosis','STDs:vulvo-perineal condylomatosis','STDs:syphilis','STDs:pelvic inflammatory disease',\n",
    "                               'STDs:genital herpes','STDs:molluscum contagiosum','STDs:AIDS','STDs:HIV','STDs:Hepatitis B','STDs:HPV','STDs: Number of diagnosis',\n",
    "                               'STDs: Time since first diagnosis','STDs: Time since last diagnosis','Biopsy','Hinselmann','Schiller','Citology','Dx:Cancer','Dx:CIN','Dx:HPV','Dx'],axis=1)\n",
    "\n",
    "correlation = c_corr.corr()\n",
    "heatmap = sns.heatmap(correlation, cbar=True, annot=True, cmap=\"bwr\", linewidths=.75)\n",
    "heatmap.set_title(\"Correlation heatmap\\n\")\n",
    "plotting.show()\n",
    "print(\"\\n\")"
   ]
  },
  {
   "cell_type": "code",
   "execution_count": 12,
   "metadata": {},
   "outputs": [
    {
     "name": "stdout",
     "output_type": "stream",
     "text": [
      "\n",
      "BEFORE FEATURE SCALING\n",
      "+------------------------------------+-----+--------+-----+----------+\n",
      "|              Feature               | Min |  Mean  | Max | Std. Dev |\n",
      "+====================================+=====+========+=====+==========+\n",
      "| Biopsy                             | 0   | 0.064  | 1   | 0.245    |\n",
      "+------------------------------------+-----+--------+-----+----------+\n",
      "| Age                                | 13  | 26.820 | 84  | 8.498    |\n",
      "+------------------------------------+-----+--------+-----+----------+\n",
      "| Number of sexual partners          | 1   | 2.512  | 28  | 1.645    |\n",
      "+------------------------------------+-----+--------+-----+----------+\n",
      "| First sexual intercourse           | 10  | 16.995 | 32  | 2.792    |\n",
      "+------------------------------------+-----+--------+-----+----------+\n",
      "| Num of pregnancies                 | 0   | 2.258  | 11  | 1.401    |\n",
      "+------------------------------------+-----+--------+-----+----------+\n",
      "| Smokes                             | 0   | 0.147  | 1   | 0.354    |\n",
      "+------------------------------------+-----+--------+-----+----------+\n",
      "| Smokes (years)                     | 0   | 1.201  | 37  | 4.061    |\n",
      "+------------------------------------+-----+--------+-----+----------+\n",
      "| Smokes (packs/year)                | 0   | 0.446  | 37  | 2.210    |\n",
      "+------------------------------------+-----+--------+-----+----------+\n",
      "| Hormonal Contraceptives            | 0   | 0.587  | 1   | 0.493    |\n",
      "+------------------------------------+-----+--------+-----+----------+\n",
      "| Hormonal Contraceptives (years)    | 0   | 2.035  | 30  | 3.567    |\n",
      "+------------------------------------+-----+--------+-----+----------+\n",
      "| IUD                                | 0   | 0.106  | 1   | 0.308    |\n",
      "+------------------------------------+-----+--------+-----+----------+\n",
      "| IUD (years)                        | 0   | 0.445  | 19  | 1.814    |\n",
      "+------------------------------------+-----+--------+-----+----------+\n",
      "| STDs                               | 0   | 0.092  | 1   | 0.289    |\n",
      "+------------------------------------+-----+--------+-----+----------+\n",
      "| STDs (number)                      | 0   | 0.155  | 4   | 0.530    |\n",
      "+------------------------------------+-----+--------+-----+----------+\n",
      "| STDs:condylomatosis                | 0   | 0.051  | 1   | 0.221    |\n",
      "+------------------------------------+-----+--------+-----+----------+\n",
      "| STDs:cervical condylomatosis       | 0   | 0      | 0   | 0        |\n",
      "+------------------------------------+-----+--------+-----+----------+\n",
      "| STDs:vaginal condylomatosis        | 0   | 0.005  | 1   | 0.068    |\n",
      "+------------------------------------+-----+--------+-----+----------+\n",
      "| STDs:vulvo-perineal condylomatosis | 0   | 0.050  | 1   | 0.218    |\n",
      "+------------------------------------+-----+--------+-----+----------+\n",
      "| STDs:syphilis                      | 0   | 0.021  | 1   | 0.143    |\n",
      "+------------------------------------+-----+--------+-----+----------+\n",
      "| STDs:pelvic inflammatory disease   | 0   | 0.006  | 1   | 0.076    |\n",
      "+------------------------------------+-----+--------+-----+----------+\n",
      "| STDs:genital herpes                | 0   | 0.029  | 1   | 0.168    |\n",
      "+------------------------------------+-----+--------+-----+----------+\n",
      "| STDs:molluscum contagiosum         | 0   | 0.001  | 1   | 0.034    |\n",
      "+------------------------------------+-----+--------+-----+----------+\n",
      "| STDs:AIDS                          | 0   | 0      | 0   | 0        |\n",
      "+------------------------------------+-----+--------+-----+----------+\n",
      "| STDs:HIV                           | 0   | 0.021  | 1   | 0.143    |\n",
      "+------------------------------------+-----+--------+-----+----------+\n",
      "| STDs:Hepatitis B                   | 0   | 0.007  | 1   | 0.083    |\n",
      "+------------------------------------+-----+--------+-----+----------+\n",
      "| STDs:HPV                           | 0   | 0.058  | 1   | 0.234    |\n",
      "+------------------------------------+-----+--------+-----+----------+\n",
      "| STDs: Number of diagnosis          | 0   | 0.087  | 3   | 0.302    |\n",
      "+------------------------------------+-----+--------+-----+----------+\n",
      "| STDs: Time since first diagnosis   | 1   | 4.177  | 22  | 1.785    |\n",
      "+------------------------------------+-----+--------+-----+----------+\n",
      "| STDs: Time since last diagnosis    | 1   | 3.233  | 22  | 1.819    |\n",
      "+------------------------------------+-----+--------+-----+----------+\n",
      "| Dx:Cancer                          | 0   | 0.021  | 1   | 0.143    |\n",
      "+------------------------------------+-----+--------+-----+----------+\n",
      "| Dx:CIN                             | 0   | 0.011  | 1   | 0.102    |\n",
      "+------------------------------------+-----+--------+-----+----------+\n",
      "| Dx:HPV                             | 0   | 0.021  | 1   | 0.143    |\n",
      "+------------------------------------+-----+--------+-----+----------+\n",
      "| Dx                                 | 0   | 0.028  | 1   | 0.165    |\n",
      "+------------------------------------+-----+--------+-----+----------+\n",
      "| Hinselmann                         | 0   | 0.041  | 1   | 0.198    |\n",
      "+------------------------------------+-----+--------+-----+----------+\n",
      "| Schiller                           | 0   | 0.086  | 1   | 0.281    |\n",
      "+------------------------------------+-----+--------+-----+----------+\n",
      "| Citology                           | 0   | 0.051  | 1   | 0.221    |\n",
      "+------------------------------------+-----+--------+-----+----------+\n",
      "\n",
      "\n"
     ]
    }
   ],
   "source": [
    "#BEFORE FEATURE SCALING\n",
    "biopsy_values = cervical_cancer['Biopsy']\n",
    "cervical_cancer = cervical_cancer.drop(columns=['Biopsy'],axis=1)\n",
    "headers = cervical_cancer.columns\n",
    "minimum = list(map(lambda x: round(x,4),cervical_cancer.min()))\n",
    "mean = list(map(lambda x: round(x,4),cervical_cancer.mean()))\n",
    "maximum = list(map(lambda x: round(x,4),cervical_cancer.max()))\n",
    "std =list(map(lambda x: round(x,4),cervical_cancer.std()))\n",
    "\n",
    "before_scaling=[]\n",
    "before_scaling.append(['Feature','Min','Mean','Max','Std. Dev'])\n",
    "before_scaling.append(['Biopsy',biopsy_values.min(),biopsy_values.mean(),biopsy_values.max(),biopsy_values.std()])\n",
    "for i in range(len(headers)):\n",
    "    before_scaling.append([headers[i],minimum[i],mean[i],maximum[i],std[i]])\n",
    "\n",
    "print(\"\\nBEFORE FEATURE SCALING\")\n",
    "table1 = Texttable()\n",
    "table1.add_rows(before_scaling)\n",
    "print(table1.draw())\n",
    "print(\"\\n\")"
   ]
  },
  {
   "cell_type": "code",
   "execution_count": 13,
   "metadata": {},
   "outputs": [
    {
     "name": "stdout",
     "output_type": "stream",
     "text": [
      "\n",
      "AFTER FEATURE SCALING\n",
      "+------------------------------------+--------+-------+--------+----------+\n",
      "|              Feature               |  Min   | Mean  |  Max   | Std. Dev |\n",
      "+====================================+========+=======+========+==========+\n",
      "| Biopsy                             | 0      | 0.064 | 1      | 0.245    |\n",
      "+------------------------------------+--------+-------+--------+----------+\n",
      "| Age                                | -1.627 | 0     | 6.732  | 1.001    |\n",
      "+------------------------------------+--------+-------+--------+----------+\n",
      "| Number of sexual partners          | -0.920 | 0     | 15.506 | 1.001    |\n",
      "+------------------------------------+--------+-------+--------+----------+\n",
      "| First sexual intercourse           | -2.507 | 0     | 5.378  | 1.001    |\n",
      "+------------------------------------+--------+-------+--------+----------+\n",
      "| Num of pregnancies                 | -1.612 | 0     | 6.244  | 1.001    |\n",
      "+------------------------------------+--------+-------+--------+----------+\n",
      "| Smokes                             | -0.415 | 0     | 2.410  | 1.001    |\n",
      "+------------------------------------+--------+-------+--------+----------+\n",
      "| Smokes (years)                     | -0.296 | 0     | 8.821  | 1.001    |\n",
      "+------------------------------------+--------+-------+--------+----------+\n",
      "| Smokes (packs/year)                | -0.202 | 0     | 16.547 | 1.001    |\n",
      "+------------------------------------+--------+-------+--------+----------+\n",
      "| Hormonal Contraceptives            | -1.193 | 0     | 0.838  | 1.001    |\n",
      "+------------------------------------+--------+-------+--------+----------+\n",
      "| Hormonal Contraceptives (years)    | -0.571 | 0     | 7.844  | 1.001    |\n",
      "+------------------------------------+--------+-------+--------+----------+\n",
      "| IUD                                | -0.344 | 0     | 2.903  | 1.001    |\n",
      "+------------------------------------+--------+-------+--------+----------+\n",
      "| IUD (years)                        | -0.245 | 0     | 10.234 | 1.001    |\n",
      "+------------------------------------+--------+-------+--------+----------+\n",
      "| STDs                               | -0.319 | 0     | 3.140  | 1.001    |\n",
      "+------------------------------------+--------+-------+--------+----------+\n",
      "| STDs (number)                      | -0.293 | 0     | 7.264  | 1.001    |\n",
      "+------------------------------------+--------+-------+--------+----------+\n",
      "| STDs:condylomatosis                | -0.233 | 0     | 4.301  | 1.001    |\n",
      "+------------------------------------+--------+-------+--------+----------+\n",
      "| STDs:cervical condylomatosis       | 0      | 0     | 0      | 0        |\n",
      "+------------------------------------+--------+-------+--------+----------+\n",
      "| STDs:vaginal condylomatosis        | -0.068 | 0     | 14.612 | 1.001    |\n",
      "+------------------------------------+--------+-------+--------+----------+\n",
      "| STDs:vulvo-perineal condylomatosis | -0.230 | 0     | 4.354  | 1.001    |\n",
      "+------------------------------------+--------+-------+--------+----------+\n",
      "| STDs:syphilis                      | -0.146 | 0     | 6.831  | 1.001    |\n",
      "+------------------------------------+--------+-------+--------+----------+\n",
      "| STDs:pelvic inflammatory disease   | -0.077 | 0     | 13.061 | 1.001    |\n",
      "+------------------------------------+--------+-------+--------+----------+\n",
      "| STDs:genital herpes                | -0.173 | 0     | 5.772  | 1.001    |\n",
      "+------------------------------------+--------+-------+--------+----------+\n",
      "| STDs:molluscum contagiosum         | -0.034 | 0     | 29.275 | 1.001    |\n",
      "+------------------------------------+--------+-------+--------+----------+\n",
      "| STDs:AIDS                          | 0      | 0     | 0      | 0        |\n",
      "+------------------------------------+--------+-------+--------+----------+\n",
      "| STDs:HIV                           | -0.146 | 0     | 6.831  | 1.001    |\n",
      "+------------------------------------+--------+-------+--------+----------+\n",
      "| STDs:Hepatitis B                   | -0.084 | 0     | 11.916 | 1.001    |\n",
      "+------------------------------------+--------+-------+--------+----------+\n",
      "| STDs:HPV                           | -0.249 | 0     | 4.020  | 1.001    |\n",
      "+------------------------------------+--------+-------+--------+----------+\n",
      "| STDs: Number of diagnosis          | -0.289 | 0     | 9.633  | 1.001    |\n",
      "+------------------------------------+--------+-------+--------+----------+\n",
      "| STDs: Time since first diagnosis   | -1.781 | 0     | 9.990  | 1.001    |\n",
      "+------------------------------------+--------+-------+--------+----------+\n",
      "| STDs: Time since last diagnosis    | -1.228 | 0     | 10.324 | 1.001    |\n",
      "+------------------------------------+--------+-------+--------+----------+\n",
      "| Dx:Cancer                          | -0.146 | 0     | 6.831  | 1.001    |\n",
      "+------------------------------------+--------+-------+--------+----------+\n",
      "| Dx:CIN                             | -0.103 | 0     | 9.713  | 1.001    |\n",
      "+------------------------------------+--------+-------+--------+----------+\n",
      "| Dx:HPV                             | -0.146 | 0     | 6.831  | 1.001    |\n",
      "+------------------------------------+--------+-------+--------+----------+\n",
      "| Dx                                 | -0.170 | 0     | 5.895  | 1.001    |\n",
      "+------------------------------------+--------+-------+--------+----------+\n",
      "| Hinselmann                         | -0.206 | 0     | 4.849  | 1.001    |\n",
      "+------------------------------------+--------+-------+--------+----------+\n",
      "| Schiller                           | -0.307 | 0     | 3.255  | 1.001    |\n",
      "+------------------------------------+--------+-------+--------+----------+\n",
      "| Citology                           | -0.233 | 0     | 4.301  | 1.001    |\n",
      "+------------------------------------+--------+-------+--------+----------+\n",
      "\n",
      "\n"
     ]
    }
   ],
   "source": [
    "#AFTER FEATURE SCALING\n",
    "\n",
    "cervical_cancer = pd.DataFrame(preprocessing.scale(cervical_cancer.iloc[:,0:35]))\n",
    "\n",
    "minimum = list(map(lambda x: round(x,4),cervical_cancer.min()))\n",
    "mean = list(map(lambda x: round(x,4),cervical_cancer.mean()))\n",
    "maximum = list(map(lambda x: round(x,4),cervical_cancer.max()))\n",
    "std =list(map(lambda x: round(x,4),cervical_cancer.std()))\n",
    "\n",
    "after_scaling=[]\n",
    "after_scaling.append(['Feature','Min','Mean','Max','Std. Dev'])\n",
    "after_scaling.append(['Biopsy',biopsy_values.min(),biopsy_values.mean(),biopsy_values.max(),biopsy_values.std()])\n",
    "for i in range(len(headers)):\n",
    "    after_scaling.append([headers[i],minimum[i],mean[i],maximum[i],std[i]])\n",
    "\n",
    "print(\"\\nAFTER FEATURE SCALING\")\n",
    "table2 = Texttable()\n",
    "table2.add_rows(after_scaling)\n",
    "print(table2.draw())\n",
    "print(\"\\n\")"
   ]
  },
  {
   "cell_type": "code",
   "execution_count": 14,
   "metadata": {},
   "outputs": [
    {
     "data": {
      "image/png": "[encoded data removed]",
      "text/plain": [
       "<Figure size 432x288 with 1 Axes>"
      ]
     },
     "metadata": {
      "needs_background": "light"
     },
     "output_type": "display_data"
    },
    {
     "data": {
      "text/plain": [
       "<Figure size 36000x36000 with 0 Axes>"
      ]
     },
     "metadata": {},
     "output_type": "display_data"
    },
    {
     "name": "stdout",
     "output_type": "stream",
     "text": [
      "\n",
      "\n"
     ]
    }
   ],
   "source": [
    "#PRINCIPAL COMPONENT ANALYSIS\n",
    "\n",
    "pca = PCA(n_components=len(cervical_cancer.columns))\n",
    "pca.fit_transform(cervical_cancer)\n",
    "components = abs(pca.components_)\n",
    "eigen_values = pca.explained_variance_\n",
    "ratio_values = pca.explained_variance_ratio_\n",
    "plotting.ylabel(\"Eigen values\")\n",
    "plotting.xlabel(\"Number of features\")\n",
    "plotting.title(\"PCA eigen values\")\n",
    "plotting.ylim(0, max(eigen_values))\n",
    "plotting.xticks([1,5,10,15,20,25,30])\n",
    "plotting.style.context('seaborn-whitegrid')\n",
    "plotting.axhline(y=1,color='r',linestyle='--')\n",
    "plotting.plot(eigen_values)\n",
    "plotting.figure(figsize=(500,500))\n",
    "plotting.show()\n",
    "print(\"\\n\")"
   ]
  },
  {
   "cell_type": "code",
   "execution_count": 15,
   "metadata": {},
   "outputs": [
    {
     "name": "stdout",
     "output_type": "stream",
     "text": [
      "\n",
      "PCA Table\n",
      "+----+-------+-------+--------+\n",
      "| NC |  SP   |  EV   |  CEV   |\n",
      "+====+=======+=======+========+\n",
      "| 1  | 5.080 | 0.150 | 15.380 |\n",
      "+----+-------+-------+--------+\n",
      "| 2  | 2.950 | 0.090 | 24.320 |\n",
      "+----+-------+-------+--------+\n",
      "| 3  | 2.470 | 0.070 | 31.800 |\n",
      "+----+-------+-------+--------+\n",
      "| 4  | 2.080 | 0.060 | 38.100 |\n",
      "+----+-------+-------+--------+\n",
      "| 5  | 1.960 | 0.060 | 44.020 |\n",
      "+----+-------+-------+--------+\n",
      "| 6  | 1.710 | 0.050 | 49.190 |\n",
      "+----+-------+-------+--------+\n",
      "| 7  | 1.560 | 0.050 | 53.920 |\n",
      "+----+-------+-------+--------+\n",
      "| 8  | 1.370 | 0.040 | 58.060 |\n",
      "+----+-------+-------+--------+\n",
      "| 9  | 1.260 | 0.040 | 61.880 |\n",
      "+----+-------+-------+--------+\n",
      "| 10 | 1.230 | 0.040 | 65.610 |\n",
      "+----+-------+-------+--------+\n",
      "| 11 | 1.210 | 0.040 | 69.280 |\n",
      "+----+-------+-------+--------+\n",
      "| 12 | 1.020 | 0.030 | 72.370 |\n",
      "+----+-------+-------+--------+\n",
      "| 13 | 1     | 0.030 | 75.410 |\n",
      "+----+-------+-------+--------+\n",
      "| 14 | 0.950 | 0.030 | 78.290 |\n",
      "+----+-------+-------+--------+\n",
      "| 15 | 0.870 | 0.030 | 80.940 |\n",
      "+----+-------+-------+--------+\n",
      "| 16 | 0.830 | 0.030 | 83.450 |\n",
      "+----+-------+-------+--------+\n",
      "| 17 | 0.800 | 0.020 | 85.870 |\n",
      "+----+-------+-------+--------+\n",
      "| 18 | 0.790 | 0.020 | 88.260 |\n",
      "+----+-------+-------+--------+\n",
      "| 19 | 0.730 | 0.020 | 90.480 |\n",
      "+----+-------+-------+--------+\n",
      "| 20 | 0.640 | 0.020 | 92.420 |\n",
      "+----+-------+-------+--------+\n",
      "| 21 | 0.540 | 0.020 | 94.040 |\n",
      "+----+-------+-------+--------+\n",
      "| 22 | 0.490 | 0.010 | 95.520 |\n",
      "+----+-------+-------+--------+\n",
      "| 23 | 0.320 | 0.010 | 96.500 |\n",
      "+----+-------+-------+--------+\n",
      "| 24 | 0.280 | 0.010 | 97.340 |\n",
      "+----+-------+-------+--------+\n",
      "| 25 | 0.260 | 0.010 | 98.120 |\n",
      "+----+-------+-------+--------+\n",
      "| 26 | 0.180 | 0.010 | 98.660 |\n",
      "+----+-------+-------+--------+\n",
      "| 27 | 0.130 | 0     | 99.050 |\n",
      "+----+-------+-------+--------+\n",
      "| 28 | 0.100 | 0     | 99.360 |\n",
      "+----+-------+-------+--------+\n",
      "| 29 | 0.080 | 0     | 99.610 |\n",
      "+----+-------+-------+--------+\n",
      "| 30 | 0.080 | 0     | 99.840 |\n",
      "+----+-------+-------+--------+\n",
      "| 31 | 0.040 | 0     | 99.950 |\n",
      "+----+-------+-------+--------+\n",
      "| 32 | 0.010 | 0     | 99.980 |\n",
      "+----+-------+-------+--------+\n",
      "| 33 | 0.010 | 0     | 100    |\n",
      "+----+-------+-------+--------+\n",
      "| 34 | 0     | 0     | 100    |\n",
      "+----+-------+-------+--------+\n",
      "| 35 | 0     | 0     | 100    |\n",
      "+----+-------+-------+--------+\n",
      "\n",
      "\n"
     ]
    }
   ],
   "source": [
    "tableList=[]\n",
    "tableList.append([\"NC\",\"SP\",\"EV\",\"CEV\"])\n",
    "for i in range(len(eigen_values)):\n",
    "    total=0\n",
    "    for j in range(i+1):\n",
    "        total+=ratio_values[j]\n",
    "    tableList.append([i+1,round(eigen_values[i],2),round(ratio_values[i],2),round(total*100,2)])\n",
    "\n",
    "\n",
    "print(\"\\nPCA Table\")\n",
    "table3 = Texttable()\n",
    "table3.add_rows(tableList)\n",
    "print(table3.draw())\n",
    "print(\"\\n\")"
   ]
  },
  {
   "cell_type": "code",
   "execution_count": 16,
   "metadata": {},
   "outputs": [
    {
     "name": "stdout",
     "output_type": "stream",
     "text": [
      "(858, 12)\n",
      "(858, 12)\n",
      "(858, 1)\n"
     ]
    }
   ],
   "source": [
    "#SPLITTING DATA INTO X AND Y\n",
    "\n",
    "pca_new = PCA(n_components=12)\n",
    "cervical_cancer = pca_new.fit_transform(cervical_cancer)\n",
    "\n",
    "X = pd.DataFrame(cervical_cancer)\n",
    "Y = pd.DataFrame(biopsy_values)\n",
    "print(cervical_cancer.shape)\n",
    "print(X.shape)\n",
    "print(Y.shape)"
   ]
  },
  {
   "cell_type": "code",
   "execution_count": 17,
   "metadata": {},
   "outputs": [
    {
     "name": "stdout",
     "output_type": "stream",
     "text": [
      "Original Data Set (858, 12)\n",
      "Shape of X training set :  (600, 12)  || Shape of test set :  (258, 12)\n",
      "Shape of Y training set :  (600, 1)  || Shape of test set :  (258, 1)\n"
     ]
    }
   ],
   "source": [
    "#SPLITTING DATASET FOR TRANINING AND SPLITTING\n",
    "\n",
    "X_train, X_test, Y_train, Y_test = train_test_split(X, Y, test_size=0.3, random_state=0)\n",
    "print('Original Data Set',cervical_cancer.shape)\n",
    "print('Shape of X training set : ',X_train.shape,' || Shape of test set : ',X_test.shape) \n",
    "print('Shape of Y training set : ',Y_train.shape,' || Shape of test set : ',Y_test.shape) "
   ]
  },
  {
   "cell_type": "code",
   "execution_count": 18,
   "metadata": {},
   "outputs": [],
   "source": [
    "table_report=[]\n",
    "table_report.append([\"Model\",\"Acc\",\"Prec\",\"Recall\",\"F1\"])\n",
    "global count_lis\n",
    "count_lis = 1"
   ]
  },
  {
   "cell_type": "code",
   "execution_count": 19,
   "metadata": {},
   "outputs": [],
   "source": [
    "#PRINT FUNCTION\n",
    "\n",
    "from sklearn.metrics import confusion_matrix, accuracy_score, classification_report\n",
    "\n",
    "def truncate(f, n):\n",
    "    return np.floor(f * 10 ** n) / 10 ** n\n",
    "\n",
    "def evaluate(sco, model, X_train, X_test, y_train, y_test):\n",
    "    global count_lis\n",
    "    y_test_pred = model.predict(X_test)\n",
    "    y_train_pred = model.predict(X_train)\n",
    "\n",
    "    clf_report = pd.DataFrame(classification_report(y_train, y_train_pred, output_dict=True))\n",
    "    acc = round(sco*100,2)\n",
    "    #print(f\"Accuracy %s\" % round(accuracy_score(y_train, y_train_pred)*100,2))\n",
    "    lisp =[]\n",
    "    lisp = truncate(clf_report.mean(axis = 1).astype(float),2)\n",
    "    table_report.append([count_lis,acc,lisp['precision'],lisp['recall'],lisp['f1-score']])\n",
    "    count_lis = count_lis+1"
   ]
  },
  {
   "cell_type": "code",
   "execution_count": 20,
   "metadata": {},
   "outputs": [
    {
     "name": "stdout",
     "output_type": "stream",
     "text": [
      "SVM Tuning Accuracy :- 93.83\n",
      "[0 0 0 0 0 0 0 0 0 0 0 0 0 0 0 0 0 0 0 0 0 0 0 0 0 0 0 0 0 0 0 0 0 0 0 0 0\n",
      " 0 0 0 0 0 0 0 0 0 0 0 0 0 0 0 0 0 0 0 0 0 1 0 0 0 0 0 0 0 0 0 0 0 0 0 0 0\n",
      " 0 0 0 1 0 0 1 0 0 1 0 0 0 0 0 0 0 0 0 0 0 0 0 0 0 0 0 0 0 0 0 0 0 0 0 0 0\n",
      " 0 0 0 0 0 0 0 0 0 0 0 0 0 0 0 0 0 0 0 0 0 0 0 0 0 0 0 0 0 0 0 0 0 0 0 0 0\n",
      " 0 0 0 0 0 0 0 0 0 0 0 0 0 0 0 0 0 0 0 0 0 0 0 0 0 0 0 0 0 0 0 0 0 0 0 0 0\n",
      " 0 0 0 0 1 0 0 0 0 0 0 0 0 0 0 0 0 0 0 0 0 0 0 0 0 0 0 0 0 0 0 0 0 0 0 0 0\n",
      " 1 0 0 0 0 0 0 0 0 0 0 0 0 0 0 0 0 0 0 0 0 0 0 0 0 0 0 0 0 0 1 1 0 0 0 0]\n"
     ]
    }
   ],
   "source": [
    "#SVM TUNING\n",
    "\n",
    "from sklearn import svm\n",
    "from sklearn.svm import SVC\n",
    "\n",
    "svm = svm.SVC()\n",
    "sc = cross_val_score(svm, X_train, Y_train, scoring='accuracy', cv=10).mean()\n",
    "\n",
    "svm_clf = SVC()\n",
    "svm_clf.fit(X_train, Y_train)\n",
    "evaluate(sc, svm_clf, X_train, X_test, Y_train, Y_test)\n",
    "\n",
    "scores = {\n",
    "    'SVM Tuning': {\n",
    "        'Train': accuracy_score(Y_train, svm_clf.predict(X_train)),\n",
    "        'Test': accuracy_score(Y_test, svm_clf.predict(X_test)),\n",
    "    },\n",
    "}\n",
    "\n",
    "print(\"SVM Tuning Accuracy :- %s\" % round(sc*100,2))\n",
    "print(svm_clf.predict(X_test))"
   ]
  },
  {
   "cell_type": "code",
   "execution_count": 21,
   "metadata": {},
   "outputs": [
    {
     "name": "stdout",
     "output_type": "stream",
     "text": [
      "Logistic regression accuracy :- 96.17\n",
      "[0 0 0 0 0 0 0 0 0 0 0 0 0 0 0 0 0 0 0 0 0 0 0 0 0 0 0 0 0 1 0 0 0 0 0 0 0\n",
      " 0 0 0 0 0 0 0 0 0 0 0 0 0 0 0 0 0 0 0 0 0 1 0 0 1 0 0 0 0 0 0 0 0 0 0 0 0\n",
      " 0 0 0 1 0 0 0 0 0 1 0 0 0 0 0 0 0 0 0 0 0 0 0 0 0 0 0 0 0 0 0 0 0 0 0 0 0\n",
      " 0 0 0 0 0 0 0 0 0 0 0 0 0 0 0 0 0 0 0 0 0 0 0 0 0 0 0 0 0 0 0 0 0 0 0 0 0\n",
      " 0 0 0 0 0 0 0 0 0 0 0 0 0 0 0 0 0 0 0 0 0 0 0 0 0 0 0 0 0 0 0 0 0 0 0 0 0\n",
      " 0 0 0 0 1 0 0 0 0 0 0 0 0 0 0 0 0 0 0 0 0 0 0 0 0 0 0 0 0 0 0 0 0 0 0 0 0\n",
      " 1 0 0 0 0 0 0 0 0 0 0 0 0 0 0 0 0 0 0 0 0 0 0 0 0 0 0 0 0 0 1 1 0 0 0 0]\n"
     ]
    }
   ],
   "source": [
    "#LOGISTIC REGRESSION MODEL\n",
    "\n",
    "from sklearn.linear_model import LogisticRegression\n",
    "\n",
    "lr_clf = LogisticRegression()\n",
    "sc = cross_val_score(lr_clf, X_train, Y_train, scoring='accuracy' ,cv=10).mean()\n",
    "\n",
    "lr_clf.fit(X_train, Y_train)\n",
    "evaluate(sc, lr_clf, X_train, X_test, Y_train, Y_test)\n",
    "\n",
    "scores['LogisticRegression'] = {\n",
    "        'Train': accuracy_score(Y_train, lr_clf.predict(X_train)),\n",
    "        'Test': accuracy_score(Y_test, lr_clf.predict(X_test)),\n",
    "    }\n",
    "\n",
    "print(\"Logistic regression accuracy :- %s\" % round(sc*100,2))\n",
    "print(lr_clf.predict(X_test))"
   ]
  },
  {
   "cell_type": "code",
   "execution_count": 22,
   "metadata": {},
   "outputs": [
    {
     "name": "stdout",
     "output_type": "stream",
     "text": [
      "AdaBoost Accuracy :- 94.0\n",
      "[0 0 0 0 0 0 0 0 0 0 0 0 0 0 0 0 0 0 0 0 0 0 0 0 0 0 0 0 0 0 0 0 1 0 0 0 0\n",
      " 0 0 0 0 0 0 0 0 0 0 0 0 0 0 0 0 0 0 0 0 0 1 0 0 1 0 0 0 0 0 0 0 0 0 0 0 0\n",
      " 0 0 0 1 0 0 1 0 0 0 0 0 0 0 0 0 0 0 0 0 0 0 0 0 0 0 0 0 0 0 0 0 0 0 0 0 0\n",
      " 0 0 0 0 0 0 0 0 0 0 0 0 0 0 0 0 0 0 0 0 0 0 0 0 0 0 0 0 0 0 1 0 0 0 0 0 0\n",
      " 0 0 0 0 0 0 0 0 0 0 0 0 0 0 0 0 0 0 0 0 0 0 0 0 0 0 0 0 0 0 0 0 0 0 0 0 0\n",
      " 0 0 0 0 1 0 0 0 0 0 0 0 0 0 0 0 0 0 0 0 0 0 0 0 0 0 0 0 0 0 0 0 0 0 0 0 0\n",
      " 1 0 0 1 0 0 0 0 0 0 0 0 0 0 0 0 0 0 0 0 0 0 0 0 0 0 0 0 0 0 1 1 0 0 1 0]\n"
     ]
    }
   ],
   "source": [
    "#ADABOOST\n",
    "\n",
    "from sklearn.ensemble import AdaBoostClassifier\n",
    "\n",
    "#adb_clf = AdaBoostClassifier(n_estimators=100, random_state=0)\n",
    "adb_clf = AdaBoostClassifier()\n",
    "sc = cross_val_score(adb_clf, X_train, Y_train, scoring='accuracy' ,cv=10).mean()\n",
    "\n",
    "adb_clf.fit(X_train, Y_train)\n",
    "evaluate(sc, adb_clf, X_train, X_test, Y_train, Y_test)\n",
    "\n",
    "scores['AdaBoost'] = {\n",
    "        'Train': accuracy_score(Y_train, adb_clf.predict(X_train)),\n",
    "        'Test': accuracy_score(Y_test, adb_clf.predict(X_test)),\n",
    "    }\n",
    "\n",
    "print(\"AdaBoost Accuracy :- %s\" % round(sc*100,2))\n",
    "print(adb_clf.predict(X_test))"
   ]
  },
  {
   "cell_type": "code",
   "execution_count": 23,
   "metadata": {},
   "outputs": [
    {
     "name": "stdout",
     "output_type": "stream",
     "text": [
      "Stochastic gradient descent Accuracy :- 93.0\n",
      "[0 0 0 0 0 0 0 0 0 0 0 0 0 0 0 0 0 0 0 0 0 0 0 0 0 0 0 0 0 1 0 0 1 0 0 0 0\n",
      " 0 0 0 0 0 0 0 0 0 0 0 0 0 0 0 0 0 0 0 0 0 1 0 0 1 0 0 0 0 0 0 0 0 0 0 0 0\n",
      " 0 0 0 1 0 0 1 0 0 1 0 0 0 0 0 0 0 0 0 0 0 0 0 0 0 0 0 0 0 0 0 0 0 0 0 0 0\n",
      " 0 0 0 0 0 0 0 0 0 0 0 0 0 0 0 0 0 0 0 0 0 0 0 0 0 0 0 0 0 0 1 0 0 0 0 0 0\n",
      " 0 0 0 0 0 0 0 0 0 0 0 0 0 0 0 0 0 0 0 0 0 0 0 0 0 1 0 0 0 0 0 0 0 0 0 0 0\n",
      " 0 0 0 0 1 0 0 0 0 0 0 0 0 0 0 0 0 0 0 0 0 0 0 0 0 0 0 0 0 0 0 0 0 0 0 0 0\n",
      " 1 0 0 0 0 0 0 1 0 0 0 0 0 0 0 0 0 0 0 0 0 0 0 0 0 0 0 0 0 0 1 1 0 0 0 0]\n"
     ]
    }
   ],
   "source": [
    "#STOCHASTIC GRADIENT DESCENT\n",
    "\n",
    "from sklearn.linear_model import SGDClassifier\n",
    "\n",
    "sgd_clf = SGDClassifier()\n",
    "sc = cross_val_score(sgd_clf, X_train, Y_train, scoring='accuracy' ,cv=10).mean()\n",
    "\n",
    "sgd_clf.fit(X_train, Y_train)\n",
    "evaluate(sc, sgd_clf, X_train, X_test, Y_train, Y_test)\n",
    "\n",
    "scores['SGDC'] = {\n",
    "        'Train': accuracy_score(Y_train, sgd_clf.predict(X_train)),\n",
    "        'Test': accuracy_score(Y_test, sgd_clf.predict(X_test)),\n",
    "    }\n",
    "\n",
    "print(\"Stochastic gradient descent Accuracy :- %s\" % round(sc*100,2))\n",
    "\n",
    "from sklearn.preprocessing import StandardScaler\n",
    "from sklearn.pipeline import make_pipeline\n",
    "\n",
    "scaler = StandardScaler()\n",
    "pipl = make_pipeline(StandardScaler(), SGDClassifier())\n",
    "pipl.fit(X_train, Y_train)\n",
    "print(pipl.predict(X_test))"
   ]
  },
  {
   "cell_type": "code",
   "execution_count": 24,
   "metadata": {},
   "outputs": [
    {
     "name": "stdout",
     "output_type": "stream",
     "text": [
      "Perceptron Accuracy :- 92.83\n",
      "[0 0 0 1 0 0 0 0 0 0 0 1 0 0 0 0 0 0 0 0 0 0 0 0 0 1 0 0 0 0 0 0 0 0 0 0 0\n",
      " 0 0 0 0 0 0 0 0 0 0 0 0 0 0 0 0 0 0 0 0 0 1 0 0 1 0 0 0 0 0 0 0 0 0 0 0 0\n",
      " 0 0 0 1 0 0 1 0 0 1 0 0 0 0 0 0 0 0 0 0 0 0 0 0 0 0 0 0 0 0 0 0 0 0 0 0 0\n",
      " 0 0 0 0 0 0 0 0 0 0 0 0 0 0 0 0 0 0 0 0 0 0 0 0 0 0 0 0 0 0 1 0 1 0 0 0 0\n",
      " 0 0 0 0 0 0 0 0 0 0 0 0 0 0 0 0 0 0 0 0 0 0 0 0 0 1 0 0 0 0 0 0 0 0 0 0 0\n",
      " 0 0 0 0 1 0 0 0 0 0 0 0 0 0 0 0 0 0 0 0 0 0 0 0 0 0 0 0 0 0 0 0 1 0 0 0 0\n",
      " 1 0 0 0 0 0 0 0 0 0 0 0 1 0 0 0 0 0 0 0 0 0 0 0 0 0 0 0 0 0 1 1 0 0 0 0]\n"
     ]
    }
   ],
   "source": [
    "#PERCEPTRON\n",
    "\n",
    "from sklearn.linear_model import Perceptron\n",
    "\n",
    "pct_clf = Perceptron()\n",
    "sc = cross_val_score(pct_clf, X_train, Y_train, scoring='accuracy' ,cv=10).mean()\n",
    "\n",
    "pct_clf.fit(X_train, Y_train)\n",
    "evaluate(sc, pct_clf, X_train, X_test, Y_train, Y_test)\n",
    "\n",
    "scores['Perceptron'] = {\n",
    "        'Train': accuracy_score(Y_train, pct_clf.predict(X_train)),\n",
    "        'Test': accuracy_score(Y_test, pct_clf.predict(X_test)),\n",
    "    }\n",
    "\n",
    "print(\"Perceptron Accuracy :- %s\" % round(sc*100,2))\n",
    "print(pct_clf.predict(X_test))"
   ]
  },
  {
   "cell_type": "code",
   "execution_count": 25,
   "metadata": {},
   "outputs": [
    {
     "name": "stdout",
     "output_type": "stream",
     "text": [
      "XGBoost Accuracy :- 95.0\n",
      "[0 0 0 0 0 0 0 0 0 0 0 0 0 0 0 0 0 0 0 0 0 0 0 0 0 0 0 0 0 0 0 0 1 0 0 0 0\n",
      " 0 0 0 0 0 0 0 0 0 0 0 0 0 0 0 0 0 0 0 0 0 1 0 0 1 0 0 0 0 0 0 0 0 0 0 0 0\n",
      " 0 0 0 1 0 0 1 0 0 1 0 0 0 0 0 0 0 0 0 0 0 0 0 0 0 0 0 0 0 0 0 0 0 0 0 0 0\n",
      " 0 0 0 0 0 0 0 0 1 0 0 0 0 0 0 0 0 0 0 0 0 0 0 0 0 0 0 0 0 0 1 0 0 0 0 0 0\n",
      " 0 0 0 0 0 0 0 0 0 0 0 0 0 0 0 0 0 0 0 0 0 0 0 0 0 0 0 0 0 0 0 0 0 0 0 0 0\n",
      " 0 0 0 0 1 0 0 0 0 0 0 0 0 0 0 0 0 0 0 0 0 0 0 0 0 0 0 0 0 0 0 0 0 0 0 0 0\n",
      " 1 0 0 1 0 0 0 0 0 0 0 0 0 0 0 0 0 0 0 0 0 0 0 0 0 0 0 0 0 0 1 1 0 0 1 0]\n"
     ]
    }
   ],
   "source": [
    "#XGBOOST\n",
    "\n",
    "from xgboost import XGBClassifier\n",
    "\n",
    "xgb_clf = XGBClassifier(eval_metric='mlogloss')\n",
    "sc = cross_val_score(xgb_clf, X_train, Y_train, scoring='accuracy', cv=10).mean()\n",
    "\n",
    "xgb_clf.fit(X_train, Y_train)\n",
    "evaluate(sc, xgb_clf, X_train, X_test, Y_train, Y_test)\n",
    "\n",
    "scores['xgboost'] = {\n",
    "        'Train': accuracy_score(Y_train, xgb_clf.predict(X_train)),\n",
    "        'Test': accuracy_score(Y_test, xgb_clf.predict(X_test)),\n",
    "    }\n",
    "\n",
    "print(\"XGBoost Accuracy :- %s\" % round((sc)*100,2))\n",
    "print(xgb_clf.predict(X_test))"
   ]
  },
  {
   "cell_type": "code",
   "execution_count": 26,
   "metadata": {},
   "outputs": [
    {
     "name": "stdout",
     "output_type": "stream",
     "text": [
      "Random Forest Accuracy :- 95.0\n",
      "[0 0 0 0 0 0 0 0 0 0 0 0 0 0 0 0 0 0 0 0 0 0 0 0 0 0 0 0 0 0 0 0 0 0 0 0 0\n",
      " 0 0 0 0 0 0 0 0 0 0 0 0 0 0 0 0 0 0 0 0 0 1 0 0 1 0 0 0 0 0 0 0 0 0 0 0 0\n",
      " 0 0 0 1 0 0 0 0 0 1 0 0 0 0 0 0 0 0 0 0 0 0 0 0 0 0 0 0 0 0 0 0 0 0 0 0 0\n",
      " 0 0 0 0 0 0 0 0 0 0 0 0 0 0 0 0 0 0 0 0 0 0 0 0 0 0 0 0 0 0 1 0 0 0 0 0 0\n",
      " 0 0 0 0 0 0 0 0 0 0 0 0 0 0 0 0 0 0 0 0 0 0 0 0 0 0 0 0 0 0 0 0 0 0 0 0 0\n",
      " 0 0 0 0 1 0 0 0 0 0 0 0 0 0 0 0 0 0 0 0 0 0 0 0 0 0 0 0 0 0 0 0 0 0 0 0 0\n",
      " 1 0 0 0 0 0 0 0 0 0 0 0 0 0 0 0 0 0 0 0 0 0 0 0 0 0 0 0 0 0 1 1 0 0 0 0]\n"
     ]
    }
   ],
   "source": [
    "#RANDOM FOREST AFTER NORMALIZATION AND PCA\n",
    "\n",
    "#rf_clf = RandomForestClassifier(random_state=42, n_estimators=1000)\n",
    "\n",
    "rf_clf = RandomForestClassifier()\n",
    "sc = cross_val_score(rf_clf, X_train, Y_train, scoring='accuracy' ,cv=10).mean()\n",
    "\n",
    "rf_clf.fit(X_train, Y_train)\n",
    "evaluate(sc, rf_clf, X_train, X_test, Y_train, Y_test)\n",
    "\n",
    "print(\"Random Forest Accuracy :- %s\" % round((sc)*100,2))\n",
    "print(rf_clf.predict(X_test))"
   ]
  },
  {
   "cell_type": "code",
   "execution_count": 27,
   "metadata": {},
   "outputs": [
    {
     "name": "stdout",
     "output_type": "stream",
     "text": [
      "Benchmark-> Accuracy before Norm and PCA:- 95.81\n",
      "[0 0 0 0 0 0 1 0 0 0 0 0 0 0 0 0 0 0 0 0 0 0 1 1 0 0 0 0 0 0 0 0 0 0 0 0 0\n",
      " 0 0 0 0 1 0 0 1 0 0 0 0 0 0 0 0 0 0 0 0 0 0 0 0 0 0 0 0 0 0 0 0 0 0 0 0 0\n",
      " 0 0 0 0 0 0 0 0 0 0 0 0 0 0 0 0 0 0 0 1 0 0 1 0 0 0 0 0 0 1 0 0 0 0 0 0 0\n",
      " 0 0 0 0 0 0 0 0 0 0 0 0 0 0 0 0 0 0 0 0 1 0 0 0 0 0 0 0 0 0 0 0 0 0 0 0 0\n",
      " 0 0 0 0 0 0 0 0 0 0 0 0 0 0 0 1 0 0 0 0 0 0 0 0 0 0 0 0 0 0 0 0 0 0 0 0 0\n",
      " 1 0 0 0 0 0 0 0 0 0 0 0 0 0 0 0 0 0 1 0 1 0 0 0 0 0 0 0 0 1 0 1 0 0 0 0 0\n",
      " 0 0 1 0 0 0 0 0 0 0 0 0 0 0 0 0 0 0 0 0 0 0 0 0 0 0 0 0 0 1 0 0 0 0 0 1 0\n",
      " 0 0 0 0 0 1 0 0 0 0 0 0 0 0 0 0 0 0 0 0 0 0 0 0 0 0 0 0 0 0 0 0 0 0 0 0 0\n",
      " 0 0 0 0 0 0 0 0 0 0 0 0 0 0 0 0 0 0 1 0 0 0 0 0 1 0 0 0 0 1 0 0 0 0 0 0 0\n",
      " 0 0 1 0 0 0 0 0 0 0 0 0 0 0 0 0 0 0 0 0 0 1 0 0 0 0 0 0 0 0 0 0 0 0 0 0 0\n",
      " 1 0 0 0 0 0 0 1 0 0 0 0 0 1 0 0 0 0 0 0 0 0 0 0 0 0 0 0 0 0 0 0 0 0 0 0 0\n",
      " 0 0 0 0 0 0 0 0 0 0 0 0 0 0 1 0 0 0 0 0 0 0 0 0 0 0 0 0 0 0 0 0 0 0 0 0 0\n",
      " 0 0 0 0 0 0 0 0 0 0 0 0 0 0 0 0 0 0 0 0 0 0 0 0 0 0 0 0 1 0 0 0 0 0 0 0 0\n",
      " 0 0 0 0 0 0 0 0 0 0 0 0 0 0 0 1 0 0 0 0 0 0 0 0 0 0 0 0 0 0 0 0 0 0 0 0 0\n",
      " 0 0 0 0 0 0 0 0 0 0 0 0 1 0 0 0 0 0 0 0 0 1 0 0 0 0 0 0 0 0 0 1 0 0 0 0 0\n",
      " 0 0 0 0 0 0 0 0 0 0 0 0 0 0 0 0 0 0 0 0 0 0 0 1 0 0 0 0 0 0 0 0 0 0 0 0 0\n",
      " 0 0 0 0 0 0 1 0 0 0 0 0 0 0 0 0 0 0 1 0 0 0 1 0 0 0 0 0 0 0 0 0 0 0 0 0 0\n",
      " 0 0 0 0 0 0 0 0 0 0 0 0 0 0 0 0 0 0 0 0 0 0 0 0 1 0 0 0 0 0 0 0 0 0 0 1 0\n",
      " 0 0 0 0 1 1 0 1 0 0 0 0 0 0 0 0 0 0 0 0 1 1 0 0 0 0 0 1 0 0 0 0 0 0 0 0 0\n",
      " 0 0 0 0 0 0 0 0 0 0 0 0 0 0 0 0 0 0 0 0 0 0 0 0 0 0 0 0 0 0 0 0 0 0 0 0 0\n",
      " 0 0 0 0 0 0 0 0 0 0 0 0 0 1 1 0 0 0 0 0 0 0 0 0 0 0 0 0 0 0 0 0 0 0 0 0 0\n",
      " 0 0 0 0 1 0 0 0 0 1 0 0 0 0 0 0 0 0 0 0 1 0 0 0 0 0 0 0 0 0 0 0 0 0 0 0 0\n",
      " 1 0 0 0 0 0 0 0 0 0 0 0 0 0 0 0 0 0 0 0 0 0 0 0 0 0 0 0 0 0 0 0 0 0 0 0 0\n",
      " 0 0 0 0 0 0 0]\n"
     ]
    }
   ],
   "source": [
    "#BENCHMARK\n",
    "\n",
    "rbf_clf = RandomForestClassifier()\n",
    "sc = cross_val_score(rf_clf, X_s, Y_s, scoring='accuracy',cv=10).mean()\n",
    "\n",
    "rbf_clf.fit(X_train, Y_train)\n",
    "evaluate(sc, rbf_clf, X_train, X, Y_train, Y)\n",
    "print(\"Benchmark-> Accuracy before Norm and PCA:- %s\"%round(sc*100,2))\n",
    "print(rbf_clf.predict(X))"
   ]
  },
  {
   "cell_type": "code",
   "execution_count": 28,
   "metadata": {},
   "outputs": [
    {
     "name": "stdout",
     "output_type": "stream",
     "text": [
      "KNN Accuracy after Norm and PCA :- 94.67\n",
      "[0 0 0 0 0 0 0 0 0 0 0 0 0 0 0 0 0 0 0 0 0 0 0 0 0 0 0 0 0 0 0 0 0 0 0 0 0\n",
      " 0 0 0 0 0 0 0 0 0 0 0 0 0 0 0 0 0 0 0 0 0 1 0 0 1 0 0 0 0 0 0 0 0 0 0 0 0\n",
      " 0 0 0 1 0 0 1 0 0 1 0 0 0 0 0 0 0 0 0 0 0 0 0 0 0 0 0 0 0 0 0 0 0 0 0 0 0\n",
      " 0 0 0 0 0 0 0 0 0 0 0 0 0 0 0 0 0 0 0 0 0 0 0 0 0 0 0 0 0 0 0 0 0 0 0 0 0\n",
      " 0 0 0 0 0 0 0 0 0 0 0 0 0 0 0 0 0 0 0 0 0 0 0 0 0 0 0 0 0 0 0 0 0 0 0 0 0\n",
      " 0 0 0 0 1 0 0 0 0 0 0 0 0 0 0 0 0 0 0 0 0 0 0 0 0 0 0 0 0 0 0 0 0 0 0 0 0\n",
      " 1 0 0 0 0 0 0 0 0 0 0 0 0 0 0 0 0 0 0 0 0 0 0 0 0 0 0 0 0 0 1 1 0 0 0 0]\n"
     ]
    }
   ],
   "source": [
    "#KNN\n",
    "\n",
    "from sklearn.neighbors import KNeighborsClassifier\n",
    "\n",
    "knn_clf = KNeighborsClassifier()\n",
    "sc = cross_val_score(knn_clf, X_train, Y_train, scoring='accuracy' ,cv=10).mean()\n",
    "\n",
    "knn_clf.fit(X_train, Y_train)\n",
    "evaluate(sc, knn_clf, X_train, X_test, Y_train, Y_test)\n",
    "\n",
    "scores['KNN'] = {\n",
    "        'Train': accuracy_score(Y_train, knn_clf.predict(X_train)),\n",
    "        'Test': accuracy_score(Y_test, knn_clf.predict(X_test)),\n",
    "    }\n",
    "\n",
    "print(\"KNN Accuracy after Norm and PCA :- %s\" % round(sc*100,2))\n",
    "print(knn_clf.predict(X_test))"
   ]
  },
  {
   "cell_type": "code",
   "execution_count": 29,
   "metadata": {},
   "outputs": [
    {
     "name": "stdout",
     "output_type": "stream",
     "text": [
      "Extremely Randomized trees Accuracy :- 94.17\n",
      "[0 0 0 0 0 0 0 0 0 0 0 0 0 0 0 0 0 0 0 0 0 0 0 0 0 0 0 0 0 0 0 0 0 0 0 0 0\n",
      " 0 0 0 0 0 0 0 0 0 0 0 0 0 0 0 0 0 0 0 0 0 1 0 0 0 0 0 0 0 0 0 0 0 0 0 0 0\n",
      " 0 0 0 1 0 0 1 0 0 1 0 0 0 0 0 0 0 0 0 0 0 0 0 0 0 0 0 0 0 0 0 0 0 0 0 0 0\n",
      " 0 0 0 0 0 0 0 0 0 0 0 0 0 0 0 0 0 0 0 0 0 0 0 0 0 0 0 0 0 0 1 0 0 0 0 0 0\n",
      " 0 0 0 0 0 0 0 0 0 0 0 0 0 0 0 0 0 0 0 0 0 0 0 0 0 0 0 0 0 0 0 0 0 0 0 0 0\n",
      " 0 0 0 0 1 0 0 0 0 0 0 0 0 0 0 0 0 0 0 0 0 0 0 0 0 0 0 0 0 0 0 0 0 0 0 0 0\n",
      " 1 0 0 0 0 0 0 0 0 0 0 0 0 0 0 0 0 0 0 0 0 0 0 0 0 0 0 0 0 0 1 1 0 0 0 0]\n"
     ]
    }
   ],
   "source": [
    "#EXTREMELY RANDOMIZED TREES\n",
    "\n",
    "from sklearn.ensemble import ExtraTreesClassifier\n",
    "\n",
    "#clf = ExtraTreesClassifier(n_estimators=100, random_state=0)\n",
    "\n",
    "ert_clf = ExtraTreesClassifier()\n",
    "sc = cross_val_score(ert_clf, X_train, Y_train, scoring='accuracy' ,cv=10).mean()\n",
    "\n",
    "ert_clf.fit(X_train, Y_train)\n",
    "evaluate(sc, ert_clf, X_train, X_test, Y_train, Y_test)\n",
    "\n",
    "scores['EXT'] = {\n",
    "        'Train': accuracy_score(Y_train, ert_clf.predict(X_train)),\n",
    "        'Test': accuracy_score(Y_test, ert_clf.predict(X_test)),\n",
    "    }\n",
    "\n",
    "print(\"Extremely Randomized trees Accuracy :- %s\" % round(sc*100,2))\n",
    "print(ert_clf.predict(X_test))\n"
   ]
  },
  {
   "cell_type": "code",
   "execution_count": 30,
   "metadata": {},
   "outputs": [],
   "source": [
    "from sklearn.ensemble import VotingClassifier\n",
    "\n",
    "estimators = []\n",
    "#svm_flag = SVC(gamma='scale')\n",
    "svm_flag = SVC()\n",
    "estimators.append(('SVM', svm_flag))\n",
    "\n",
    "#log_flag = LogisticRegression(solver='liblinear')\n",
    "log_flag = LogisticRegression()\n",
    "estimators.append(('Logistic', log_flag))\n",
    "\n",
    "adb_flag = AdaBoostClassifier()\n",
    "estimators.append(('Adaboost', adb_flag))\n",
    "\n",
    "sgd_flag = SGDClassifier()\n",
    "estimators.append(('SDGC', sgd_flag))\n",
    "\n",
    "pct_flag = Perceptron()\n",
    "estimators.append(('Percept', pct_flag))\n",
    "\n",
    "xgb_flag = XGBClassifier(eval_metric='mlogloss')\n",
    "estimators.append(('XGBboost', xgb_flag))\n",
    "\n",
    "rf_flag = RandomForestClassifier()\n",
    "estimators.append(('Randfor', rf_flag))\n",
    "\n",
    "knn_flag = KNeighborsClassifier()\n",
    "estimators.append(('KNN', knn_flag))\n",
    "\n",
    "ert_flag = ExtraTreesClassifier()\n",
    "estimators.append(('Etrarandtree', ert_flag))\n",
    "\n",
    "#By default its hard voting\n",
    "voting = VotingClassifier(estimators=estimators)\n",
    "voting.fit(X_train, Y_train)\n",
    "\n",
    "#acc = round(accuracy_score(Y_train, Y_train_pred)*100,2)\n",
    "acc = round(cross_val_score(voting, X_train, Y_train ,scoring='accuracy',cv=10).mean()*100,2)\n",
    "\n",
    "global count_lis\n",
    "Y_test_pred = voting.predict(X_test)\n",
    "Y_train_pred = voting.predict(X_train)\n",
    "\n",
    "clf_report = pd.DataFrame(classification_report(Y_train, Y_train_pred, output_dict=True))\n",
    "\n",
    "lisp =[]\n",
    "lisp = truncate(clf_report.mean(axis = 1).astype(float),2)\n",
    "table_report.append([count_lis,acc,lisp['precision'],lisp['recall'],lisp['f1-score']])\n",
    "\n",
    "scores['Voting'] = {\n",
    "        'Train': accuracy_score(Y_train, voting.predict(X_train)),\n",
    "        'Test': accuracy_score(Y_test, voting.predict(X_test)),\n",
    "    }"
   ]
  },
  {
   "cell_type": "code",
   "execution_count": 31,
   "metadata": {},
   "outputs": [
    {
     "name": "stdout",
     "output_type": "stream",
     "text": [
      "\n",
      "PREDICTION RESULTS\n",
      " 1. SVM TUNING\n",
      " 2. LOGISTIC REGRESSION\n",
      " 3. ADABOOST\n",
      " 4. STOCHASTIC GRADIENT DESCENT\n",
      " 5. PERCEPTRO\n",
      " 6. XGBOOST\n",
      " 7. BENCHMARK (RF BEFORE SCALING AND PCA)\n",
      " 8. RANDOM FOREST (AFTER SCALING AND PCA)\n",
      " 9. KNN (K-NEAREST NEIGHBOR)\n",
      " 10. EXTREMELY RANDOMIZED TREES\n",
      " 11. ENSEMBLE VOTING CLASSIFIER\n",
      "+-------+--------+-------+--------+-------+\n",
      "| Model |  Acc   | Prec  | Recall |  F1   |\n",
      "+=======+========+=======+========+=======+\n",
      "| 1     | 93.830 | 0.910 | 0.880  | 0.890 |\n",
      "+-------+--------+-------+--------+-------+\n",
      "| 2     | 96.170 | 0.910 | 0.880  | 0.890 |\n",
      "+-------+--------+-------+--------+-------+\n",
      "| 3     | 94     | 0.990 | 0.990  | 0.990 |\n",
      "+-------+--------+-------+--------+-------+\n",
      "| 4     | 93     | 0.810 | 0.790  | 0.800 |\n",
      "+-------+--------+-------+--------+-------+\n",
      "| 5     | 92.830 | 0.860 | 0.880  | 0.870 |\n",
      "+-------+--------+-------+--------+-------+\n",
      "| 6     | 95     | 1     | 1      | 1     |\n",
      "+-------+--------+-------+--------+-------+\n",
      "| 7     | 95     | 1     | 1      | 1     |\n",
      "+-------+--------+-------+--------+-------+\n",
      "| 8     | 95.810 | 1     | 1      | 1     |\n",
      "+-------+--------+-------+--------+-------+\n",
      "| 9     | 94.670 | 0.890 | 0.840  | 0.860 |\n",
      "+-------+--------+-------+--------+-------+\n",
      "| 10    | 94.170 | 1     | 1      | 1     |\n",
      "+-------+--------+-------+--------+-------+\n",
      "| 11    | 95.170 | 0.930 | 0.920  | 0.930 |\n",
      "+-------+--------+-------+--------+-------+\n"
     ]
    }
   ],
   "source": [
    "print(\"\\nPREDICTION RESULTS\")\n",
    "print(\" 1. SVM TUNING\\n 2. LOGISTIC REGRESSION\\n 3. ADABOOST\\n 4. STOCHASTIC GRADIENT DESCENT\\n 5. PERCEPTRO\\n 6. XGBOOST\\n 7. BENCHMARK (RF BEFORE SCALING AND PCA)\\n 8. RANDOM FOREST (AFTER SCALING AND PCA)\\n 9. KNN (K-NEAREST NEIGHBOR)\\n 10. EXTREMELY RANDOMIZED TREES\\n 11. ENSEMBLE VOTING CLASSIFIER\")\n",
    "table4 = Texttable()\n",
    "table4.add_rows(table_report)\n",
    "print(table4.draw())"
   ]
  },
  {
   "cell_type": "code",
   "execution_count": 32,
   "metadata": {},
   "outputs": [
    {
     "name": "stdout",
     "output_type": "stream",
     "text": [
      "+--------------------+-----------+----------+\n",
      "|       Model        | Train Acc | Test Acc |\n",
      "+====================+===========+==========+\n",
      "| SVM Tuning         | 0.965     | 0.965    |\n",
      "+--------------------+-----------+----------+\n",
      "| LogisticRegression | 0.963     | 0.961    |\n",
      "+--------------------+-----------+----------+\n",
      "| AdaBoost           | 0.998     | 0.973    |\n",
      "+--------------------+-----------+----------+\n",
      "| SGDC               | 0.932     | 0.950    |\n",
      "+--------------------+-----------+----------+\n",
      "| Perceptron         | 0.952     | 0.946    |\n",
      "+--------------------+-----------+----------+\n",
      "| xgboost            | 1         | 0.965    |\n",
      "+--------------------+-----------+----------+\n",
      "| KNN                | 0.957     | 0.969    |\n",
      "+--------------------+-----------+----------+\n",
      "| EXT                | 1         | 0.969    |\n",
      "+--------------------+-----------+----------+\n",
      "| Voting             | 0.975     | 0.977    |\n",
      "+--------------------+-----------+----------+\n"
     ]
    },
    {
     "data": {
      "image/png": "[encoded data removed]",
      "text/plain": [
       "<Figure size 1080x576 with 1 Axes>"
      ]
     },
     "metadata": {
      "needs_background": "light"
     },
     "output_type": "display_data"
    }
   ],
   "source": [
    "scores_df = pd.DataFrame(scores)\n",
    "\n",
    "scoresList=[]\n",
    "scoresList.append([\"Model\",\"Train Acc\",\"Test Acc\"])\n",
    "for i in scores_df:\n",
    "    li = list(scores_df[i])\n",
    "    scoresList.append([i,round(li[0],4),round(li[1],4)])\n",
    "\n",
    "table5 = Texttable()    \n",
    "table5.add_rows(scoresList)\n",
    "print(table5.draw())\n",
    "scores_df.plot(kind='bar', figsize=(15, 8))\n",
    "plotting.show()"
   ]
  },
  {
   "cell_type": "markdown",
   "metadata": {},
   "source": [
    "<h1> Conclusion </h1>\n",
    "\n",
    "The models which have atleast 95% accuracy are selected for further deductions from the table. These include \n",
    "    1. Logistic Regression\n",
    "    2. Random Forest\n",
    "    3. Ensemble Voting Classifier\n",
    "\n",
    "From these three models, any of these can be used as they have higher accuracy than the rest of the models.\n",
    "From the precision scores, F1 and recall scores, it can be concluded that <b>Random Forest</b> performs the best with this cervical cancer dataset."
   ]
  },
  {
   "cell_type": "markdown",
   "metadata": {},
   "source": [
    "<center> <h4> The following flowchart explains the overall steps involved</h4> </center>\n",
    "<img src=\"flow.png\"></img>"
   ]
  }
 ],
 "metadata": {
  "kernelspec": {
   "display_name": "Python 3",
   "language": "python",
   "name": "python3"
  },
  "language_info": {
   "codemirror_mode": {
    "name": "ipython",
    "version": 3
   },
   "file_extension": ".py",
   "mimetype": "text/x-python",
   "name": "python",
   "nbconvert_exporter": "python",
   "pygments_lexer": "ipython3",
   "version": "3.8.3"
  }
 },
 "nbformat": 4,
 "nbformat_minor": 4
}
