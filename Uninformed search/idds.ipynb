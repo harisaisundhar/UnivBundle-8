{
 "cells": [
  {
   "cell_type": "code",
   "execution_count": 11,
   "metadata": {},
   "outputs": [
    {
     "name": "stdout",
     "output_type": "stream",
     "text": [
      "\n",
      "Depth Level: 0\n",
      "Path Traversed: A\n",
      "\n",
      "Depth Level: 1\n",
      "Path Traversed: A->B->C\n",
      "\n",
      "Depth Level: 2\n",
      "Path Traversed: A->B->D->C->F->L\n",
      "\n",
      "Depth Level: 3\n",
      "Path Traversed: A->B->D->E->C->F->J->K->L->M\n"
     ]
    }
   ],
   "source": [
    "#!/usr/bin/env python3\n",
    "# -*- coding: utf-8 -*-\n",
    "\"\"\"\n",
    "Created on Sun Jan 24 20:49:42 2021\n",
    "\n",
    "@author: karanrajmokan\n",
    "\"\"\"\n",
    "   \n",
    "import pandas as pd\n",
    "from graphviz import Graph\n",
    "\n",
    "traversed=[]\n",
    "dot = Graph(comment=\"IDDS\") \n",
    "dot.attr(label=\"\\nIterative Deepening DFS\")\n",
    "def DLS(edgeList,src,target,maxDepth, visited): \n",
    "  \n",
    "    if(src == target):\n",
    "        dot.node(src,color=\"green\") \n",
    "        return visited\n",
    "     \n",
    "    if maxDepth<=0: \n",
    "        return visited\n",
    "   \n",
    "    childFrom = edgeList[(edgeList[\"from\"]==src)]\n",
    "    iteredges=[]\n",
    "    for i in childFrom[\"to\"]:\n",
    "        if i not in visited:\n",
    "            visited.append(i) \n",
    "            path=DLS(edgeList,i,target,maxDepth-1,visited)\n",
    "            if src+i not in traversed:\n",
    "                traversed.append(src+i)\n",
    "                iteredges.append(src+i)\n",
    "                dot.edge(src,i, constraint='false')\n",
    "                dot.node(i,color=\"red\")\n",
    "            if(i == target):\n",
    "                dot.node(i,color=\"green\") \n",
    "                return visited\n",
    "            \n",
    "    return visited\n",
    "\n",
    "def IDDFS(edgeList,src, target, maxDepth): \n",
    "    dot.node(src,color=\"red\")\n",
    "    for i in range(maxDepth): \n",
    "        visited=[]\n",
    "        visited=DLS(edgeList,src, target, i, visited)\n",
    "        print(\"\\nDepth Level:\", i)\n",
    "        if len(visited)>0:\n",
    "            print(\"Path Traversed:\",src+\"->\"+'->'.join(visited))\n",
    "        else:\n",
    "            print(\"Path Traversed:\",src)\n",
    "        if len(traversed)>1: \n",
    "            dot.render('idds/iteration-'+str(i)+'.gv', view=True)  \n",
    "            'idds/iteration-'+str(i)+'.pdf'\n",
    "            \n",
    "        if target in visited:\n",
    "            break\n",
    "\n",
    "edgeList = pd.read_csv('edge_list.csv')\n",
    "IDDFS(edgeList,'A','M',5)"
   ]
  },
  {
   "cell_type": "code",
   "execution_count": null,
   "metadata": {},
   "outputs": [],
   "source": []
  }
 ],
 "metadata": {
  "kernelspec": {
   "display_name": "Python 3",
   "language": "python",
   "name": "python3"
  },
  "language_info": {
   "codemirror_mode": {
    "name": "ipython",
    "version": 3
   },
   "file_extension": ".py",
   "mimetype": "text/x-python",
   "name": "python",
   "nbconvert_exporter": "python",
   "pygments_lexer": "ipython3",
   "version": "3.8.3"
  }
 },
 "nbformat": 4,
 "nbformat_minor": 2
}
