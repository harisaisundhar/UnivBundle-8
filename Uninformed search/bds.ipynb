{
 "cells": [
  {
   "cell_type": "code",
   "execution_count": 13,
   "metadata": {
    "colab": {
     "base_uri": "https://localhost:8080/",
     "height": 119
    },
    "id": "dVQPSlWdVQop",
    "outputId": "4d826ecc-ee9c-47d8-e3c4-317c058f3c2f"
   },
   "outputs": [
    {
     "name": "stdout",
     "output_type": "stream",
     "text": [
      "\n",
      "\n",
      "Bi-Directional Search GRAPH\n",
      "\n",
      "Forward Path A-->B-->C-->D-->F\n",
      "\n",
      "Backward Path M-->K-->L-->F\n"
     ]
    }
   ],
   "source": [
    "import pandas as pd\n",
    "from graphviz import Graph\n",
    "\n",
    "def bfs(edgeList, goalNode, Open, Closed):\n",
    "\n",
    "        currentNode = Open[0]\n",
    "        del Open[0]\n",
    "        Closed.append(currentNode)\n",
    "        if(currentNode == goalNode):\n",
    "            return\n",
    "\n",
    "        uniqueFrom = []\n",
    "        childFrom = edgeList[(edgeList[\"from\"]==currentNode)]\n",
    "        for i in childFrom['to']:\n",
    "            if i not in Closed:\n",
    "                uniqueFrom.append(i)\n",
    "\n",
    "        uniqueTo = []\n",
    "        childTo = edgeList[(edgeList['to']==currentNode)]\n",
    "        for i in childTo['from']:\n",
    "            if i not in Closed:\n",
    "                uniqueTo.append(i)\n",
    "        \n",
    "        childNode = []\n",
    "\n",
    "        for i in uniqueFrom:\n",
    "            if i not in Open:\n",
    "                Open.append(i)\n",
    "                childNode.append(i)\n",
    "\n",
    "        for i in uniqueTo:\n",
    "            if i not in Open:\n",
    "                Open.append(i)\n",
    "                childNode.append(i)\n",
    "\n",
    "        for i in childNode:\n",
    "            if i+currentNode not in traversed:\n",
    "                traversed.append(currentNode+i)\n",
    "    \n",
    "        dot.node(currentNode,color=\"red\")\n",
    "\n",
    "    \n",
    "\n",
    "edgeList = pd.read_csv('edge_list.csv')\n",
    "\n",
    "ForwardOpen = []\n",
    "ForwardClosed = []\n",
    "BackwardOpen = []\n",
    "BackwardClosed = []\n",
    "traversed = []\n",
    "dot = Graph(comment='BFS')\n",
    "ForwardOpen.append(\"A\")\n",
    "BackwardOpen.append(\"M\")\n",
    "\n",
    "while(1) :\n",
    "  \n",
    "  bfs(edgeList, \"M\", ForwardOpen, ForwardClosed)\n",
    "  if len(ForwardClosed)>0 and len(BackwardClosed)>0 and ForwardClosed[-1]==BackwardClosed[-1] :\n",
    "    dot.node(BackwardClosed[-1],color=\"green\")\n",
    "    break\n",
    "  bfs(edgeList, \"A\", BackwardOpen, BackwardClosed)\n",
    "  if len(ForwardClosed)>0 and len(BackwardClosed)>0 and ForwardClosed[-1]==BackwardClosed[-1] :\n",
    "    dot.node(ForwardClosed[-1],color=\"green\")\n",
    "    break\n",
    "\n",
    "\n",
    "dot.node(\"M\",color=\"green\")\n",
    "dot.edges(traversed)\n",
    "dot.render('output/bds.gv', view=True)  \n",
    "'output/bds.gv.pdf'\n",
    "\n",
    "message = \"\\n\\nBi-Directional Search GRAPH\\n\\nForward Path \" + \"-->\".join(ForwardClosed) +\"\\n\\nBackward Path \" + \"-->\".join(BackwardClosed)\n",
    "print(message)\n",
    "\n",
    "dot.attr(label=message)\n"
   ]
  },
  {
   "cell_type": "code",
   "execution_count": null,
   "metadata": {},
   "outputs": [],
   "source": []
  }
 ],
 "metadata": {
  "colab": {
   "collapsed_sections": [],
   "name": "bds",
   "provenance": []
  },
  "kernelspec": {
   "display_name": "Python 3",
   "language": "python",
   "name": "python3"
  },
  "language_info": {
   "codemirror_mode": {
    "name": "ipython",
    "version": 3
   },
   "file_extension": ".py",
   "mimetype": "text/x-python",
   "name": "python",
   "nbconvert_exporter": "python",
   "pygments_lexer": "ipython3",
   "version": "3.8.3"
  }
 },
 "nbformat": 4,
 "nbformat_minor": 1
}
