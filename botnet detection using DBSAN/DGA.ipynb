{
 "cells": [
  {
   "cell_type": "code",
   "execution_count": 1,
   "metadata": {},
   "outputs": [],
   "source": [
    "import pandas as pd\n",
    "import re\n",
    "import collections\n",
    "import matplotlib.pyplot as plt\n",
    "import numpy as np\n",
    "from nltk.util import ngrams\n",
    "from sklearn import preprocessing\n",
    "from sklearn.cluster import KMeans\n",
    "from sklearn.cluster import DBSCAN\n",
    "from sklearn.preprocessing import StandardScaler\n",
    "from sklearn.preprocessing import normalize\n",
    "from sklearn.model_selection import train_test_split\n",
    "from sklearn.metrics import mean_squared_error\n",
    "from itertools import chain\n",
    "from random import randrange, uniform\n",
    "import math\n",
    "pd.set_option('display.max_columns', None)"
   ]
  },
  {
   "cell_type": "code",
   "execution_count": 2,
   "metadata": {},
   "outputs": [
    {
     "name": "stdout",
     "output_type": "stream",
     "text": [
      "    UserId                      Domain1  \\\n",
      "0      150  11.117.163.70.in-addr.arpa.   \n",
      "1     3600     117.163.70.in-addr.arpa.   \n",
      "2     3600           ns1.mm.ks.cox.net.   \n",
      "3   172800   236.25.37.81.in-addr.arpa.   \n",
      "4   172800       25.37.81.in-addr.arpa.   \n",
      "5   172800       25.37.81.in-addr.arpa.   \n",
      "6    86400     85.128.179.in-addr.arpa.   \n",
      "7    86400     85.128.179.in-addr.arpa.   \n",
      "8    86400     85.128.179.in-addr.arpa.   \n",
      "9    86400     85.128.179.in-addr.arpa.   \n",
      "10    3600         84.120.in-addr.arpa.   \n",
      "11   86400     224.163.69.in-addr.arpa.   \n",
      "12   86400     224.163.69.in-addr.arpa.   \n",
      "13   86400     224.163.69.in-addr.arpa.   \n",
      "14   47222          57.27.in-addr.arpa.   \n",
      "15   47222          57.27.in-addr.arpa.   \n",
      "16   86400     aaadel.mantraonline.com.   \n",
      "17   86400     aaadel.mantraonline.com.   \n",
      "18   86400     dnsdel.mantraonline.com.   \n",
      "19   86400     dnsdel.mantraonline.com.   \n",
      "\n",
      "                                      Domain  \n",
      "0          mtae448c7100586.mm.ks.ks.cox.net.  \n",
      "1                         ns1.mm.ks.cox.net.  \n",
      "2                              24.248.134.39  \n",
      "3   236.Red-81-37-25.dynamicIP.rima-tde.net.  \n",
      "4                   rsdmno1-14.rima-tde.net.  \n",
      "5                   rsdbgi1-11.rima-tde.net.  \n",
      "6                      COMPRIDO.VIVO.COM.BR.  \n",
      "7                    PINHEIROS2.VIVO.COM.BR.  \n",
      "8                        GUANDU.VIVO.COM.BR.  \n",
      "9                        TIETE2.VIVO.COM.BR.  \n",
      "10                           ns1.cnc-gd.net.  \n",
      "11                        ns3.dreamhost.com.  \n",
      "12                        ns1.dreamhost.com.  \n",
      "13                        ns2.dreamhost.com.  \n",
      "14                  dnsdel.mantraonline.com.  \n",
      "15                  aaadel.mantraonline.com.  \n",
      "16                              202.56.230.6  \n",
      "17                          2404:a800:0:b::9  \n",
      "18                              202.56.230.5  \n",
      "19                          2404:a800:0:b::7  \n"
     ]
    }
   ],
   "source": [
    "data = pd.read_csv(\"dns-traffic.20140614.txt\",nrows=10000,sep=\"\\t\")\n",
    "data.drop(data.columns[[0, 1, 2, 3, 4]], axis=1,inplace=True)\n",
    "data.columns = ['UserId','Domain1','Domain']\n",
    "print(data.head(20))"
   ]
  },
  {
   "cell_type": "code",
   "execution_count": 3,
   "metadata": {},
   "outputs": [
    {
     "name": "stdout",
     "output_type": "stream",
     "text": [
      "    UserId                                   Domain\n",
      "0      150         mtae448c7100586.mm.ks.ks.cox.net\n",
      "1     3600                        ns1.mm.ks.cox.net\n",
      "2     3600                        ns1.mm.ks.cox.net\n",
      "3   172800  236.Red-81-37-25.dynamicIP.rima-tde.net\n",
      "4   172800                  rsdmno1-14.rima-tde.net\n",
      "5   172800                  rsdbgi1-11.rima-tde.net\n",
      "6    86400                     COMPRIDO.VIVO.COM.BR\n",
      "7    86400                   PINHEIROS2.VIVO.COM.BR\n",
      "8    86400                       GUANDU.VIVO.COM.BR\n",
      "9    86400                       TIETE2.VIVO.COM.BR\n",
      "10    3600                           ns1.cnc-gd.net\n",
      "11   86400                        ns3.dreamhost.com\n",
      "12   86400                        ns1.dreamhost.com\n",
      "13   86400                        ns2.dreamhost.com\n",
      "14   47222                  dnsdel.mantraonline.com\n",
      "15   47222                  aaadel.mantraonline.com\n",
      "16   86400                  aaadel.mantraonline.com\n",
      "17   86400                  aaadel.mantraonline.com\n",
      "18   86400                  dnsdel.mantraonline.com\n",
      "19   86400                  dnsdel.mantraonline.com\n"
     ]
    }
   ],
   "source": [
    "for i in range(data['Domain'].shape[0]):\n",
    "    if re.search(\"^\\d{1,3}\\.\\d{1,3}\\.\\d{1,3}\\.\\d{1,3}$\",data['Domain'][i]) or re.search(\":\",data['Domain'][i]):\n",
    "        temp = data['Domain1'][i]\n",
    "        data.loc[i,('Domain')] = temp\n",
    "    if re.search(r\"\\.$\",data['Domain'][i]): \n",
    "        value = data['Domain'][i][:-1]\n",
    "        data.loc[i,('Domain')] = value\n",
    "\n",
    "data.drop(data.columns[1], axis=1,inplace=True)\n",
    "print(data.head(20))"
   ]
  },
  {
   "cell_type": "code",
   "execution_count": 4,
   "metadata": {},
   "outputs": [
    {
     "name": "stdout",
     "output_type": "stream",
     "text": [
      "           Domain\n",
      "1      google.com\n",
      "2     youtube.com\n",
      "3       tmall.com\n",
      "4       baidu.com\n",
      "5          qq.com\n",
      "6        sohu.com\n",
      "7    facebook.com\n",
      "8      taobao.com\n",
      "9          360.cn\n",
      "10         jd.com\n",
      "11      yahoo.com\n",
      "12     amazon.com\n",
      "13    sina.com.cn\n",
      "14  wikipedia.org\n",
      "15      weibo.com\n",
      "16  xinhuanet.com\n",
      "17    netflix.com\n",
      "18     reddit.com\n",
      "19       live.com\n",
      "20     alipay.com\n"
     ]
    }
   ],
   "source": [
    "whiteList = pd.read_csv('top-1m.csv',header=None,names=['Domain'])\n",
    "print(whiteList.head(20))"
   ]
  },
  {
   "cell_type": "code",
   "execution_count": 5,
   "metadata": {},
   "outputs": [
    {
     "name": "stdout",
     "output_type": "stream",
     "text": [
      "The number of remaining domain list is 9990\n"
     ]
    }
   ],
   "source": [
    "#DOMAIN FILTERING\n",
    "\n",
    "#1.WhiteList filtering\n",
    "\n",
    "tempList = whiteList.head(100).values\n",
    "actualList=[]\n",
    "for i in tempList:\n",
    "    for j in i:\n",
    "        actualList.append(\"[a-zA-Z0-9]*.\"+j)\n",
    "        \n",
    "reduceList=data.values\n",
    "domainList=[]\n",
    "dataList=[]\n",
    "for i in reduceList:\n",
    "    flag=0\n",
    "    for j in actualList:\n",
    "        if re.search(j,i[1]):\n",
    "            flag=1\n",
    "            break\n",
    "    if flag==0:\n",
    "        domainList.append(list(i)[1])\n",
    "        dataList.append(i)\n",
    "\n",
    "print(\"The number of remaining domain list is\",len(domainList))"
   ]
  },
  {
   "cell_type": "code",
   "execution_count": 6,
   "metadata": {},
   "outputs": [
    {
     "name": "stdout",
     "output_type": "stream",
     "text": [
      "[(('.c', 'co'), 740), (('co', 'om'), 711), (('e.', '.c'), 113), (('s.', '.c'), 81), (('n.', '.c'), 63)]\n"
     ]
    },
    {
     "data": {
      "image/png": "[encoded data removed]",
      "text/plain": [
       "<Figure size 432x288 with 1 Axes>"
      ]
     },
     "metadata": {
      "needs_background": "light"
     },
     "output_type": "display_data"
    },
    {
     "name": "stdout",
     "output_type": "stream",
     "text": [
      "The first whiteList domain and its probability\n",
      "google.com   0.5117395944503731\n"
     ]
    }
   ],
   "source": [
    "#n-gram frequencies\n",
    "\n",
    "#FOR WHITELIST\n",
    "tokens = whiteList['Domain'].head(1000)\n",
    "dictionary={}\n",
    "probList=[]\n",
    "for i in tokens:\n",
    "    dumm = [i[j:j+2] for j in range(len(i)-1)]\n",
    "    probList.append(dumm)\n",
    "    bgs = ngrams(dumm,2)\n",
    "    frequencies = collections.Counter(bgs)\n",
    "    for j in frequencies:\n",
    "        if j not in dictionary:\n",
    "            dictionary[j]=frequencies[j]\n",
    "        else:\n",
    "            dictionary[j]+=frequencies[j]\n",
    "            \n",
    "print(collections.Counter(dictionary).most_common(5))\n",
    "\n",
    "keys = list(dictionary.keys())\n",
    "values = list(dictionary.values())\n",
    "\n",
    "total_sum = sum(dictionary.values())\n",
    "probabilities=[]\n",
    "for i in probList:\n",
    "    summation=0\n",
    "    for j in i:\n",
    "        subset_dict = [key for key in keys if j in key]\n",
    "        for k in subset_dict:\n",
    "            summation+=(dictionary[k]/total_sum)\n",
    "    probabilities.append(summation)\n",
    "\n",
    "res = '#'.join(map(str, keys))\n",
    "keys = res.split('#')\n",
    "number = preprocessing.LabelEncoder()\n",
    "dumm = number.fit_transform(keys)\n",
    "\n",
    "x = np.array(dumm)\n",
    "y = np.array(values)\n",
    "\n",
    "plt.scatter(x, y)\n",
    "plt.show()\n",
    "\n",
    "print(\"The first whiteList domain and its probability\")\n",
    "print(whiteList['Domain'].iloc[0],\" \",probabilities[0])"
   ]
  },
  {
   "cell_type": "code",
   "execution_count": 7,
   "metadata": {},
   "outputs": [
    {
     "name": "stdout",
     "output_type": "stream",
     "text": [
      "[(('ne', 'et'), 526), (('.n', 'ne'), 475), (('ve', 'er'), 446), (('se', 'er'), 445), (('er', 'rv'), 442)]\n"
     ]
    },
    {
     "data": {
      "image/png": "[encoded data removed]",
      "text/plain": [
       "<Figure size 432x288 with 1 Axes>"
      ]
     },
     "metadata": {
      "needs_background": "light"
     },
     "output_type": "display_data"
    },
    {
     "name": "stdout",
     "output_type": "stream",
     "text": [
      "The first DGA domain and its probability\n",
      "mtae448c7100586.mm.ks.ks.cox.net   0.4131992457573854\n"
     ]
    }
   ],
   "source": [
    "\n",
    "#FOR DOMAINLIST\n",
    "tokens = domainList[:1000]\n",
    "dictionary={}\n",
    "probList=[]\n",
    "for i in tokens:\n",
    "    dumm = [i[j:j+2] for j in range(len(i)-1)]\n",
    "    probList.append(dumm)\n",
    "    bgs = ngrams(dumm,2)\n",
    "    frequencies = collections.Counter(bgs)\n",
    "    for j in frequencies:\n",
    "        if j not in dictionary:\n",
    "            dictionary[j]=frequencies[j]\n",
    "        else:\n",
    "            dictionary[j]+=frequencies[j]\n",
    "            \n",
    "print(collections.Counter(dictionary).most_common(5))\n",
    "\n",
    "keys = list(dictionary.keys())\n",
    "values = list(dictionary.values())\n",
    "\n",
    "total_sum = sum(dictionary.values())\n",
    "probabilities=[]\n",
    "for i in probList:\n",
    "    summation=0\n",
    "    for j in i:\n",
    "        subset_dict = [key for key in keys if j in key]\n",
    "        for k in subset_dict:\n",
    "            summation+=(dictionary[k]/total_sum)\n",
    "    probabilities.append(summation)\n",
    "\n",
    "res = '#'.join(map(str, keys))\n",
    "keys = res.split('#')\n",
    "number = preprocessing.LabelEncoder()\n",
    "dumm = number.fit_transform(keys)\n",
    "\n",
    "x = np.array(dumm)\n",
    "y = np.array(values)\n",
    "\n",
    "plt.scatter(x, y)\n",
    "plt.show()\n",
    "\n",
    "print(\"The first DGA domain and its probability\")\n",
    "print(domainList[0],\" \",probabilities[0])"
   ]
  },
  {
   "cell_type": "code",
   "execution_count": 8,
   "metadata": {},
   "outputs": [
    {
     "data": {
      "image/png": "[encoded data removed]",
      "text/plain": [
       "<Figure size 432x288 with 1 Axes>"
      ]
     },
     "metadata": {
      "needs_background": "light"
     },
     "output_type": "display_data"
    },
    {
     "name": "stdout",
     "output_type": "stream",
     "text": [
      "The count of non-benign domains is 633\n",
      "The count of benign domains is 367\n"
     ]
    }
   ],
   "source": [
    "#2. k-means clustering\n",
    "\n",
    "domainsList = domainList[:1000]\n",
    "clustList = number.fit_transform(domainsList)\n",
    "trainList=[]\n",
    "for i in range(len(clustList)):\n",
    "    trainList.append([clustList[i],probabilities[i]])\n",
    "training_set = np.array(trainList)\n",
    "\n",
    "kmeans = KMeans(n_clusters=2,max_iter=300)\n",
    "kmeans.fit(training_set)\n",
    "labels = kmeans.labels_\n",
    "labels=list(labels)\n",
    "\n",
    "\n",
    "plt.scatter(training_set[:,0], training_set[:,1], c=labels)  \n",
    "plt.show()\n",
    "\n",
    "print(\"The count of non-benign domains is\",labels.count(0))\n",
    "print(\"The count of benign domains is\",labels.count(1))\n",
    "\n",
    "filteredOutput=[]\n",
    "sideOutput=[]\n",
    "for i in range(len(labels)):\n",
    "    if labels[i] == 0:\n",
    "        filteredOutput.append(domainList[i])\n",
    "        sideOutput.append(dataList[i][0])"
   ]
  },
  {
   "cell_type": "code",
   "execution_count": 9,
   "metadata": {},
   "outputs": [
    {
     "name": "stdout",
     "output_type": "stream",
     "text": [
      "[ 0  1  2  2  2  2 -1 -1  2  2  3  3  4  5  6 -1 -1 -1 -1  7 -1 -1  8  9\n",
      "  8  9  8  9  8  9  8  9  8  9  8  9  8  9 10 11 -1 11 -1  7  7 -1 -1 -1\n",
      "  1 12 13 14 15 16 17 18 19 20 21 22 23 24 25 26 23 23 19 19 24 17 14 26\n",
      " 16 25 15 20 22 18 21 27 28 29 30 31 32 33 34 35 36 37 38 39 40 40 41 41\n",
      " 42 42 43 43 -1 44 44 -1 45 45 46 46 47 47 48 48 16 16 49 49 -1 -1 50 -1\n",
      "  6 51 52 53 54 55 52 53 54 55 54 56 57 55 51 51 12 53  2  2 58 13 59 60\n",
      "  2  7  7  7 58 50 50  2 61 62 63 64 65 37 66 67 68 69 70 57 71 61 62 63\n",
      " 64 65 37 66 67 68 69 70 57 71 61 62 28 27 32 31 34 39 37 35 30 36 29 38\n",
      " 33 28 27 32 31 34 39 37 35 30 36 29 38 33 28 27 32 31 39 35 30 36 29 38\n",
      " 33 61 62 63 64 65 37 66 67 68 69 70 57 71 61 62 63 64 65 37 66 67 68 69\n",
      " 70 57 71 61 62 61 62 63 64 65 37 66 67 68 69 70 57 71 61 62 63 64 65 37\n",
      " 66 67 68 69 70 57 71 61 62 61 62 63 64 65 37 66 67 68 69 70 57 71 61 62\n",
      " 63 64 65 37 66 67 68 69 70 57 71 61 62  2  2  2  2  2 -1  2 58 13 59 60\n",
      " 72 72 72 72 50 -1 -1 -1 51 -1  8  9  8  9 -1 13  2  2  2  2 23 19 24 17\n",
      " 14 26 16 25 15 20 22 18 21 23 19 24 17 14 26 16 25 15 20 22 18 21 23 19\n",
      " 23 19 24 17 14 26 16 25 15 20 22 18 21 23 19 24 17 14 26 16 25 15 20 22\n",
      " 18 21 23 19 23 19 24 17 14 26 16 25 15 20 22 18 21 23 19 24 17 14 26 16\n",
      " 25 15 20 22 18 21 23 19 23 19 24 17 14 26 16 25 15 20 22 18 21 23 19 24\n",
      " 17 14 26 16 25 15 20 22 18 21 23 19 -1 -1 73 73 -1  7 -1 74 74 74 -1 -1\n",
      " 51  2  2 75  2  1 54 57 56 55 10  5 -1 73 73 76 77 76 77 76 77 76 77  0\n",
      " 78 79 23 19 24 17 14 26 16 25 15 20 22 18 21 23 19 24 17 14 26 16 25 15\n",
      " 20 22 18 21 23 19 23 19 24 17 14 26 16 25 15 20 22 18 21 23 19 24 17 14\n",
      " 26 16 25 15 20 22 18 21 23 19 80 -1 -1 79 78 50  7 50 50  7 50 -1  2 -1\n",
      "  2  7  7 -1 -1  7 50 50  2 72 72 72 72 72 72 72 72 72 72 72 72 -1 11 -1\n",
      " -1 -1 81 -1 -1 -1 80 -1  4 -1 -1 -1 -1 -1 -1 -1 -1 -1 81 -1 -1 -1 -1 75\n",
      "  2 50 -1 -1 -1 -1 -1 -1 -1 -1 -1 -1 -1 -1 76 -1 82 82 83 83 84 84 85 85\n",
      " 86 86 14 87 87 -1 33 33 -1]\n",
      "\n",
      "The number of unique clusters  - 88\n",
      "The number of noise values(-1) - 73\n"
     ]
    },
    {
     "data": {
      "image/png": "[encoded data removed]",
      "text/plain": [
       "<Figure size 432x288 with 1 Axes>"
      ]
     },
     "metadata": {
      "needs_background": "light"
     },
     "output_type": "display_data"
    }
   ],
   "source": [
    "#DOMAIN CLUSTERING\n",
    "\n",
    "list1 = number.fit_transform(sideOutput)\n",
    "list2 = number.fit_transform(filteredOutput)\n",
    "\n",
    "inp = pd.DataFrame(list(zip(list1,list2)),columns=['Users','Domain'])\n",
    "scaler = StandardScaler()\n",
    "X_scaled = scaler.fit_transform(inp)\n",
    "X_normalized = normalize(X_scaled) \n",
    "X_normalized = pd.DataFrame(X_normalized, columns=['Users','Domain'])\n",
    "\n",
    "db_default = DBSCAN(eps = 0.00375, min_samples = 2).fit(X_normalized)\n",
    "new_labels = db_default.labels_\n",
    "\n",
    "print(new_labels)\n",
    "new_labels = list(new_labels)\n",
    "print(\"\\nThe number of unique clusters  -\",(len(collections.Counter(new_labels).keys())-1))\n",
    "print(\"The number of noise values(-1) -\",new_labels.count(-1))\n",
    "\n",
    "plt.scatter(X_normalized['Users'], X_normalized['Domain'], c=new_labels)  \n",
    "plt.show()"
   ]
  },
  {
   "cell_type": "code",
   "execution_count": 10,
   "metadata": {},
   "outputs": [
    {
     "name": "stdout",
     "output_type": "stream",
     "text": [
      "The list of clusters are [0, 1, 2, 3, 4, 5, 6, 7, 8, 9, 10, 11, 12, 13, 14, 15, 16, 17, 18, 19, 20, 21, 22, 23, 24, 25, 26, 27, 28, 29, 30, 31, 32, 33, 34, 35, 36, 37, 38, 39, 40, 41, 42, 43, 44, 45, 46, 47, 48, 49, 50, 51, 52, 53, 54, 55, 56, 57, 58, 59, 60, 61, 62, 63, 64, 65, 66, 67, 68, 69, 70, 71, 72, 73, 74, 75, 76, 77, 78, 79, 80, 81, 82, 83, 84, 85, 86, 87]\n"
     ]
    }
   ],
   "source": [
    "new_dictionary={}\n",
    "for i in range(len(new_labels)):\n",
    "    if new_labels[i]!=-1:\n",
    "        if new_labels[i] not in new_dictionary:\n",
    "            new_dictionary[new_labels[i]] = [[sideOutput[i],filteredOutput[i]]]\n",
    "        else:\n",
    "            new_dictionary[new_labels[i]].append([sideOutput[i],filteredOutput[i]])\n",
    "\n",
    "print(\"The list of clusters are \",end=\"\")\n",
    "print(list(new_dictionary.keys()))"
   ]
  },
  {
   "cell_type": "code",
   "execution_count": 11,
   "metadata": {
    "scrolled": false
   },
   "outputs": [
    {
     "name": "stdout",
     "output_type": "stream",
     "text": [
      "              Domain  Score\n",
      "0  bqwqeiswupyny.com    1.0\n",
      "1  oocevdwyruhdi.net    1.0\n",
      "2  xhlwkqdawjdpi.biz    1.0\n",
      "3   lfqkclhctolfi.ru    1.0\n",
      "4  yybxvbcxxehhy.org    1.0\n"
     ]
    }
   ],
   "source": [
    "#COLLABORATIVE FILTERING\n",
    "\n",
    "dgaDomains = pd.read_csv('dga_domains.csv',nrows=100)\n",
    "dgaDomains.drop(['DGA_family','Type'], axis=1,inplace=True)\n",
    "dgaDomains['Score'] = 1.0\n",
    "print(dgaDomains.head())\n"
   ]
  },
  {
   "cell_type": "code",
   "execution_count": 12,
   "metadata": {
    "scrolled": false
   },
   "outputs": [
    {
     "name": "stdout",
     "output_type": "stream",
     "text": [
      "{0: [[150, 'mtae448c7100586.mm.ks.ks.cox.net', 0.73], [10800, 'i5DB53810.pool.tripleplugandplay.com', 0.73]], 1: [[172800, '236.Red-81-37-25.dynamicIP.rima-tde.net', 0.8], [172800, '235.Red-88-19-231.staticIP.rima-tde.net', 0.8], [172800, '238.Red-81-39-13.dynamicIP.rima-tde.net', 0.8]], 2: [[86400, 'COMPRIDO.VIVO.COM.BR', 0.74], [86400, 'PINHEIROS2.VIVO.COM.BR', 0.74], [86400, 'GUANDU.VIVO.COM.BR', 0.74], [86400, 'TIETE2.VIVO.COM.BR', 0.74], [86400, 'aaadel.mantraonline.com', 0.74], [86400, 'aaadel.mantraonline.com', 0.74], [86400, 'a2-16-225-237.deploy.akamaitechnologies.com', 0.74], [86400, '179-128-85-14.user.vivozap.com.br', 0.74], [86400, '178-165-116-14-kh.maxnet.ua', 0.74], [86400, 'ABTS-KK-static-013.61.166.122.airtelbroadband.in', 0.74], [86400, '122.54.79.237.pldt.net', 0.74], [86400, 'NS1.pldt.net', 0.74], [86400, 'NS2.pldt.net', 0.74], [86400, 'NS1.pldt.net', 0.74], [86400, 'NS2.pldt.net', 0.74], [86400, '177-196-66-237.user.vivozap.com.br', 0.74], [86400, 'TIETE2.VIVO.COM.BR', 0.74], [86400, 'PINHEIROS2.VIVO.COM.BR', 0.74], [86400, 'GUANDU.VIVO.COM.BR', 0.74], [86400, 'COMPRIDO.VIVO.COM.BR', 0.74], [86400, 'amsns01.chello.com', 0.74], [86400, 'amsns00.chello.com', 0.74], [86400, '50-90-159-238.res.bhn.net', 0.74], [86400, 'a.in-addr.cn', 0.74], [86400, '16.206.72.37.dynamic.sat.abo.nordnet.fr', 0.74], [86400, 'a.in-addr.cn', 0.74], [86400, '089-101-030016.ntlworld.ie', 0.74]], 3: [[86400, 'dnsdel.mantraonline.com', 0.62], [86400, 'dnsdel.mantraonline.com', 0.62]], 4: [[14400, 'apache2-ps42489.ps42489.dreamhostps.com', 0.74], [23613, 'b.root-servers.net', 0.74]], 5: [[7200, 'c-69-246-18-237.hsd1.mi.comcast.net', 0.74], [300, 'amsns01.chello.com', 0.74]], 6: [[7200, 'dns101.comcast.net', 0.78], [7200, 'dns101.comcast.net', 0.78]], 7: [[86400, 'ns.golden.net', 0.64], [86400, 'ns-2.mediaWays.net', 0.64], [86400, 'ns-3.mediaWays.net', 0.64], [86400, 'ns.maxnet.ua', 0.64], [86400, 'ns.maxnet.ua', 0.64], [86400, 'ns.maxnet.ua', 0.64], [86400, 'ns.ahhfptt.net.cn', 0.64], [86400, 'ns.hyp.net', 0.64], [86400, 'ns.hyp.net', 0.64], [86400, 'name2.nordnet.fr', 0.64], [86400, 'name.nordnet.fr', 0.64], [86400, 'mta-69-203-253-238.si.res.rr.com', 0.64]], 8: [[172800, 'ns.execulink.com', 0.76], [172800, 'ns.execulink.com', 0.76], [172800, 'ns.execulink.com', 0.76], [172800, 'ns.execulink.com', 0.76], [172800, 'ns.execulink.com', 0.76], [172800, 'ns.execulink.com', 0.76], [172800, 'ns.execulink.com', 0.76], [172800, 'ns.execulink.com', 0.76], [172800, 'ns.execulink.com', 0.76], [172800, 'ns.execulink.com', 0.76]], 9: [[172800, 'ns-bmi.execulink.com', 0.78], [172800, 'ns-bmi.execulink.com', 0.78], [172800, 'ns-bmi.execulink.com', 0.78], [172800, 'ns-bmi.execulink.com', 0.78], [172800, 'ns-bmi.execulink.com', 0.78], [172800, 'ns-bmi.execulink.com', 0.78], [172800, 'ns-bmi.execulink.com', 0.78], [172800, 'ns-bmi.execulink.com', 0.78], [172800, 'ns-bmi.execulink.com', 0.78], [172800, 'ns-bmi.execulink.com', 0.78]], 10: [[900, 'ares.utel.net.ua', 0.62], [300, 'amsns00.chello.com', 0.62]], 11: [[900, 'expert.ukrtel.net', 0.64], [900, 'expert.ukrtel.net', 0.64], [23613, 'e.root-servers.net', 0.64]], 12: [[86400, 'host14.201-252-0.telecom.net.ar', 0.61], [86400, 'host.colocrossing.com', 0.61]], 13: [[86400, 'gulp.arnet.com.ar', 0.79], [86400, 'guandu.vivo.com.br', 0.79], [86400, 'guandu.vivo.com.br', 0.79], [86400, 'geo-ns2.kync.com', 0.79]], 14: [[172800, 'e.gtld-servers.net', 0.75], [172800, 'e.gtld-servers.net', 0.75], [172800, 'e.gtld-servers.net', 0.75], [172800, 'e.gtld-servers.net', 0.75], [172800, 'e.gtld-servers.net', 0.75], [172800, 'e.gtld-servers.net', 0.75], [172800, 'e.gtld-servers.net', 0.75], [172800, 'e.gtld-servers.net', 0.75], [172800, 'e.gtld-servers.net', 0.75], [172800, 'e.gtld-servers.net', 0.75], [172800, 'e.gtld-servers.net', 0.75], [172800, 'e.gtld-servers.net', 0.75], [172800, 'e.gtld-servers.net', 0.75], [172800, 'e.gtld-servers.net', 0.75], [436651, 'e.root-servers.net', 0.75]], 15: [[172800, 'i.gtld-servers.net', 0.76], [172800, 'i.gtld-servers.net', 0.76], [172800, 'i.gtld-servers.net', 0.76], [172800, 'i.gtld-servers.net', 0.76], [172800, 'i.gtld-servers.net', 0.76], [172800, 'i.gtld-servers.net', 0.76], [172800, 'i.gtld-servers.net', 0.76], [172800, 'i.gtld-servers.net', 0.76], [172800, 'i.gtld-servers.net', 0.76], [172800, 'i.gtld-servers.net', 0.76], [172800, 'i.gtld-servers.net', 0.76], [172800, 'i.gtld-servers.net', 0.76], [172800, 'i.gtld-servers.net', 0.76], [172800, 'i.gtld-servers.net', 0.76]], 16: [[172800, 'g.gtld-servers.net', 0.79], [172800, 'g.gtld-servers.net', 0.79], [3600000, 'l.root-servers.net', 0.79], [3600000, 'l.root-servers.net', 0.79], [172800, 'g.gtld-servers.net', 0.79], [172800, 'g.gtld-servers.net', 0.79], [172800, 'g.gtld-servers.net', 0.79], [172800, 'g.gtld-servers.net', 0.79], [172800, 'g.gtld-servers.net', 0.79], [172800, 'g.gtld-servers.net', 0.79], [172800, 'g.gtld-servers.net', 0.79], [172800, 'g.gtld-servers.net', 0.79], [172800, 'g.gtld-servers.net', 0.79], [172800, 'g.gtld-servers.net', 0.79], [172800, 'g.gtld-servers.net', 0.79], [172800, 'g.gtld-servers.net', 0.79]], 17: [[172800, 'd.gtld-servers.net', 0.62], [172800, 'd.gtld-servers.net', 0.62], [172800, 'd.gtld-servers.net', 0.62], [172800, 'd.gtld-servers.net', 0.62], [172800, 'd.gtld-servers.net', 0.62], [172800, 'd.gtld-servers.net', 0.62], [172800, 'd.gtld-servers.net', 0.62], [172800, 'd.gtld-servers.net', 0.62], [172800, 'd.gtld-servers.net', 0.62], [172800, 'd.gtld-servers.net', 0.62], [172800, 'd.gtld-servers.net', 0.62], [172800, 'd.gtld-servers.net', 0.62], [172800, 'd.gtld-servers.net', 0.62], [172800, 'd.gtld-servers.net', 0.62]], 18: [[172800, 'l.gtld-servers.net', 0.72], [172800, 'l.gtld-servers.net', 0.72], [172800, 'l.gtld-servers.net', 0.72], [172800, 'l.gtld-servers.net', 0.72], [172800, 'l.gtld-servers.net', 0.72], [172800, 'l.gtld-servers.net', 0.72], [172800, 'l.gtld-servers.net', 0.72], [172800, 'l.gtld-servers.net', 0.72], [172800, 'l.gtld-servers.net', 0.72], [172800, 'l.gtld-servers.net', 0.72], [172800, 'l.gtld-servers.net', 0.72], [172800, 'l.gtld-servers.net', 0.72], [172800, 'l.gtld-servers.net', 0.72], [172800, 'l.gtld-servers.net', 0.72]], 19: [[172800, 'b.gtld-servers.net', 0.61], [172800, 'b.gtld-servers.net', 0.61], [172800, 'b.gtld-servers.net', 0.61], [172800, 'b.gtld-servers.net', 0.61], [172800, 'b.gtld-servers.net', 0.61], [172800, 'b.gtld-servers.net', 0.61], [172800, 'b.gtld-servers.net', 0.61], [172800, 'b.gtld-servers.net', 0.61], [172800, 'b.gtld-servers.net', 0.61], [172800, 'b.gtld-servers.net', 0.61], [172800, 'b.gtld-servers.net', 0.61], [172800, 'b.gtld-servers.net', 0.61], [172800, 'b.gtld-servers.net', 0.61], [172800, 'b.gtld-servers.net', 0.61], [172800, 'b.gtld-servers.net', 0.61], [172800, 'b.gtld-servers.net', 0.61], [172800, 'b.gtld-servers.net', 0.61], [172800, 'b.gtld-servers.net', 0.61], [172800, 'b.gtld-servers.net', 0.61], [172800, 'b.gtld-servers.net', 0.61], [172800, 'b.gtld-servers.net', 0.61]], 20: [[172800, 'j.gtld-servers.net', 0.68], [172800, 'j.gtld-servers.net', 0.68], [172800, 'j.gtld-servers.net', 0.68], [172800, 'j.gtld-servers.net', 0.68], [172800, 'j.gtld-servers.net', 0.68], [172800, 'j.gtld-servers.net', 0.68], [172800, 'j.gtld-servers.net', 0.68], [172800, 'j.gtld-servers.net', 0.68], [172800, 'j.gtld-servers.net', 0.68], [172800, 'j.gtld-servers.net', 0.68], [172800, 'j.gtld-servers.net', 0.68], [172800, 'j.gtld-servers.net', 0.68], [172800, 'j.gtld-servers.net', 0.68], [172800, 'j.gtld-servers.net', 0.68]], 21: [[172800, 'm.gtld-servers.net', 0.78], [172800, 'm.gtld-servers.net', 0.78], [172800, 'm.gtld-servers.net', 0.78], [172800, 'm.gtld-servers.net', 0.78], [172800, 'm.gtld-servers.net', 0.78], [172800, 'm.gtld-servers.net', 0.78], [172800, 'm.gtld-servers.net', 0.78], [172800, 'm.gtld-servers.net', 0.78], [172800, 'm.gtld-servers.net', 0.78], [172800, 'm.gtld-servers.net', 0.78], [172800, 'm.gtld-servers.net', 0.78], [172800, 'm.gtld-servers.net', 0.78], [172800, 'm.gtld-servers.net', 0.78], [172800, 'm.gtld-servers.net', 0.78]], 22: [[172800, 'k.gtld-servers.net', 0.74], [172800, 'k.gtld-servers.net', 0.74], [172800, 'k.gtld-servers.net', 0.74], [172800, 'k.gtld-servers.net', 0.74], [172800, 'k.gtld-servers.net', 0.74], [172800, 'k.gtld-servers.net', 0.74], [172800, 'k.gtld-servers.net', 0.74], [172800, 'k.gtld-servers.net', 0.74], [172800, 'k.gtld-servers.net', 0.74], [172800, 'k.gtld-servers.net', 0.74], [172800, 'k.gtld-servers.net', 0.74], [172800, 'k.gtld-servers.net', 0.74], [172800, 'k.gtld-servers.net', 0.74], [172800, 'k.gtld-servers.net', 0.74]], 23: [[172800, 'a.gtld-servers.net', 0.69], [172800, 'a.gtld-servers.net', 0.69], [172800, 'a.gtld-servers.net', 0.69], [172800, 'a.gtld-servers.net', 0.69], [172800, 'a.gtld-servers.net', 0.69], [172800, 'a.gtld-servers.net', 0.69], [172800, 'a.gtld-servers.net', 0.69], [172800, 'a.gtld-servers.net', 0.69], [172800, 'a.gtld-servers.net', 0.69], [172800, 'a.gtld-servers.net', 0.69], [172800, 'a.gtld-servers.net', 0.69], [172800, 'a.gtld-servers.net', 0.69], [172800, 'a.gtld-servers.net', 0.69], [172800, 'a.gtld-servers.net', 0.69], [172800, 'a.gtld-servers.net', 0.69], [172800, 'a.gtld-servers.net', 0.69], [172800, 'a.gtld-servers.net', 0.69], [172800, 'a.gtld-servers.net', 0.69], [172800, 'a.gtld-servers.net', 0.69], [172800, 'a.gtld-servers.net', 0.69], [172800, 'a.gtld-servers.net', 0.69]], 24: [[172800, 'c.gtld-servers.net', 0.61], [172800, 'c.gtld-servers.net', 0.61], [172800, 'c.gtld-servers.net', 0.61], [172800, 'c.gtld-servers.net', 0.61], [172800, 'c.gtld-servers.net', 0.61], [172800, 'c.gtld-servers.net', 0.61], [172800, 'c.gtld-servers.net', 0.61], [172800, 'c.gtld-servers.net', 0.61], [172800, 'c.gtld-servers.net', 0.61], [172800, 'c.gtld-servers.net', 0.61], [172800, 'c.gtld-servers.net', 0.61], [172800, 'c.gtld-servers.net', 0.61], [172800, 'c.gtld-servers.net', 0.61], [172800, 'c.gtld-servers.net', 0.61]], 25: [[172800, 'h.gtld-servers.net', 0.65], [172800, 'h.gtld-servers.net', 0.65], [172800, 'h.gtld-servers.net', 0.65], [172800, 'h.gtld-servers.net', 0.65], [172800, 'h.gtld-servers.net', 0.65], [172800, 'h.gtld-servers.net', 0.65], [172800, 'h.gtld-servers.net', 0.65], [172800, 'h.gtld-servers.net', 0.65], [172800, 'h.gtld-servers.net', 0.65], [172800, 'h.gtld-servers.net', 0.65], [172800, 'h.gtld-servers.net', 0.65], [172800, 'h.gtld-servers.net', 0.65], [172800, 'h.gtld-servers.net', 0.65], [172800, 'h.gtld-servers.net', 0.65]], 26: [[172800, 'f.gtld-servers.net', 0.65], [172800, 'f.gtld-servers.net', 0.65], [172800, 'f.gtld-servers.net', 0.65], [172800, 'f.gtld-servers.net', 0.65], [172800, 'f.gtld-servers.net', 0.65], [172800, 'f.gtld-servers.net', 0.65], [172800, 'f.gtld-servers.net', 0.65], [172800, 'f.gtld-servers.net', 0.65], [172800, 'f.gtld-servers.net', 0.65], [172800, 'f.gtld-servers.net', 0.65], [172800, 'f.gtld-servers.net', 0.65], [172800, 'f.gtld-servers.net', 0.65], [172800, 'f.gtld-servers.net', 0.65], [172800, 'f.gtld-servers.net', 0.65]], 27: [[518400, 'b.root-servers.net', 0.75], [518400, 'b.root-servers.net', 0.75], [518400, 'b.root-servers.net', 0.75], [518400, 'b.root-servers.net', 0.75]], 28: [[518400, 'a.root-servers.net', 0.66], [518400, 'a.root-servers.net', 0.66], [518400, 'a.root-servers.net', 0.66], [518400, 'a.root-servers.net', 0.66]], 29: [[518400, 'k.root-servers.net', 0.61], [518400, 'k.root-servers.net', 0.61], [518400, 'k.root-servers.net', 0.61], [518400, 'k.root-servers.net', 0.61]], 30: [[518400, 'i.root-servers.net', 0.72], [518400, 'i.root-servers.net', 0.72], [518400, 'i.root-servers.net', 0.72], [518400, 'i.root-servers.net', 0.72]], 31: [[518400, 'd.root-servers.net', 0.8], [518400, 'd.root-servers.net', 0.8], [518400, 'd.root-servers.net', 0.8], [518400, 'd.root-servers.net', 0.8]], 32: [[518400, 'c.root-servers.net', 0.65], [518400, 'c.root-servers.net', 0.65], [518400, 'c.root-servers.net', 0.65], [518400, 'c.root-servers.net', 0.65]], 33: [[518400, 'm.root-servers.net', 0.62], [518400, 'm.root-servers.net', 0.62], [518400, 'm.root-servers.net', 0.62], [518400, 'm.root-servers.net', 0.62], [436651, 'k.root-servers.net', 0.62], [436651, 'k.root-servers.net', 0.62]], 34: [[518400, 'e.root-servers.net', 0.67], [518400, 'e.root-servers.net', 0.67], [518400, 'e.root-servers.net', 0.67]], 35: [[518400, 'h.root-servers.net', 0.8], [518400, 'h.root-servers.net', 0.8], [518400, 'h.root-servers.net', 0.8], [518400, 'h.root-servers.net', 0.8]], 36: [[518400, 'j.root-servers.net', 0.79], [518400, 'j.root-servers.net', 0.79], [518400, 'j.root-servers.net', 0.79], [518400, 'j.root-servers.net', 0.79]], 37: [[518400, 'g.root-servers.net', 0.65], [172800, 'f.gtld-servers.NET', 0.65], [172800, 'f.gtld-servers.NET', 0.65], [518400, 'g.root-servers.net', 0.65], [518400, 'g.root-servers.net', 0.65], [172800, 'f.gtld-servers.NET', 0.65], [172800, 'f.gtld-servers.NET', 0.65], [172800, 'f.gtld-servers.NET', 0.65], [172800, 'f.gtld-servers.NET', 0.65], [172800, 'f.gtld-servers.NET', 0.65], [172800, 'f.gtld-servers.NET', 0.65]], 38: [[518400, 'l.root-servers.net', 0.75], [518400, 'l.root-servers.net', 0.75], [518400, 'l.root-servers.net', 0.75], [518400, 'l.root-servers.net', 0.75]], 39: [[518400, 'f.root-servers.net', 0.74], [518400, 'f.root-servers.net', 0.74], [518400, 'f.root-servers.net', 0.74], [518400, 'f.root-servers.net', 0.74]], 40: [[3600000, 'a.root-servers.net', 0.74], [3600000, 'a.root-servers.net', 0.74]], 41: [[3600000, 'b.root-servers.net', 0.71], [3600000, 'b.root-servers.net', 0.71]], 42: [[3600000, 'c.root-servers.net', 0.71], [3600000, 'c.root-servers.net', 0.71]], 43: [[3600000, 'd.root-servers.net', 0.72], [3600000, 'd.root-servers.net', 0.72]], 44: [[3600000, 'f.root-servers.net', 0.72], [3600000, 'f.root-servers.net', 0.72]], 45: [[3600000, 'h.root-servers.net', 0.65], [3600000, 'h.root-servers.net', 0.65]], 46: [[3600000, 'i.root-servers.net', 0.64], [3600000, 'i.root-servers.net', 0.64]], 47: [[3600000, 'j.root-servers.net', 0.66], [3600000, 'j.root-servers.net', 0.66]], 48: [[3600000, 'k.root-servers.net', 0.71], [3600000, 'k.root-servers.net', 0.71]], 49: [[3600000, 'm.root-servers.net', 0.71], [3600000, 'm.root-servers.net', 0.71]], 50: [[86400, 'dns1.broadriver.com', 0.78], [86400, 'dns-pri-01.texas.rr.com', 0.78], [86400, 'dns-sec-02.texas.rr.com', 0.78], [86400, 'dns.miun.se', 0.78], [86400, 'dns.miun.se', 0.78], [86400, 'dns.miun.se', 0.78], [86400, 'dns.miun.se', 0.78], [86400, 'dns.miun.se', 0.78], [86400, 'dns-sec-01.rdc-nyc.rr.com', 0.78], [86400, 'dns-pri-01.rdc-nyc.rr.com', 0.78], [86400, 'dns1.cidc.telus.com', 0.78]], 51: [[300, 'ns.golden.net', 0.8], [300, 'ns.golden.net', 0.8], [300, 'ns.golden.net', 0.8], [300, 'ns.golden.net', 0.8], [3600, 'nmc1.ptt.js.cn', 0.8]], 52: [[300, 'ns-bmi.execulink.com', 0.78], [300, 'ns-bmi.execulink.com', 0.78]], 53: [[300, 'ns.execulink.com', 0.67], [300, 'ns.execulink.com', 0.67], [3600, 'neptuno.redglobal.net', 0.67]], 54: [[600, 'ns.execulink.com', 0.76], [600, 'ns.execulink.com', 0.76], [600, 'ns.execulink.com', 0.76], [600, 'ns.execulink.com', 0.76]], 55: [[14400, 'ns-bmi.execulink.com', 0.68], [14400, 'ns-bmi.execulink.com', 0.68], [14400, 'ns-bmi.execulink.com', 0.68], [14400, 'ns-bmi.execulink.com', 0.68]], 56: [[345600, 'ns.execulink.com', 0.8], [345600, 'ns.execulink.com', 0.8]], 57: [[345600, 'ns-bmi.execulink.com', 0.79], [172800, 'l.gtld-servers.NET', 0.79], [172800, 'l.gtld-servers.NET', 0.79], [172800, 'l.gtld-servers.NET', 0.79], [172800, 'l.gtld-servers.NET', 0.79], [172800, 'l.gtld-servers.NET', 0.79], [172800, 'l.gtld-servers.NET', 0.79], [172800, 'l.gtld-servers.NET', 0.79], [172800, 'l.gtld-servers.NET', 0.79], [345600, 'ns-bmi.execulink.com', 0.79]], 58: [[86400, 'comprido.vivo.com.br', 0.71], [86400, 'cpe-67-10-207-237.elp.res.rr.com', 0.71], [86400, 'comprido.vivo.com.br', 0.71]], 59: [[3600, 'guandu.vivo.com.br', 0.79], [3600, 'guandu.vivo.com.br', 0.79]], 60: [[3600, 'comprido.vivo.com.br', 0.79], [3600, 'comprido.vivo.com.br', 0.79]], 61: [[172800, 'a.gtld-servers.NET', 0.73], [172800, 'a.gtld-servers.NET', 0.73], [172800, 'a.gtld-servers.NET', 0.73], [172800, 'a.gtld-servers.NET', 0.73], [172800, 'a.gtld-servers.NET', 0.73], [172800, 'a.gtld-servers.NET', 0.73], [172800, 'a.gtld-servers.NET', 0.73], [172800, 'a.gtld-servers.NET', 0.73], [172800, 'a.gtld-servers.NET', 0.73], [172800, 'a.gtld-servers.NET', 0.73], [172800, 'a.gtld-servers.NET', 0.73], [172800, 'a.gtld-servers.NET', 0.73]], 62: [[172800, 'b.gtld-servers.NET', 0.68], [172800, 'b.gtld-servers.NET', 0.68], [172800, 'b.gtld-servers.NET', 0.68], [172800, 'b.gtld-servers.NET', 0.68], [172800, 'b.gtld-servers.NET', 0.68], [172800, 'b.gtld-servers.NET', 0.68], [172800, 'b.gtld-servers.NET', 0.68], [172800, 'b.gtld-servers.NET', 0.68], [172800, 'b.gtld-servers.NET', 0.68], [172800, 'b.gtld-servers.NET', 0.68], [172800, 'b.gtld-servers.NET', 0.68], [172800, 'b.gtld-servers.NET', 0.68]], 63: [[172800, 'c.gtld-servers.NET', 0.64], [172800, 'c.gtld-servers.NET', 0.64], [172800, 'c.gtld-servers.NET', 0.64], [172800, 'c.gtld-servers.NET', 0.64], [172800, 'c.gtld-servers.NET', 0.64], [172800, 'c.gtld-servers.NET', 0.64], [172800, 'c.gtld-servers.NET', 0.64], [172800, 'c.gtld-servers.NET', 0.64]], 64: [[172800, 'd.gtld-servers.NET', 0.68], [172800, 'd.gtld-servers.NET', 0.68], [172800, 'd.gtld-servers.NET', 0.68], [172800, 'd.gtld-servers.NET', 0.68], [172800, 'd.gtld-servers.NET', 0.68], [172800, 'd.gtld-servers.NET', 0.68], [172800, 'd.gtld-servers.NET', 0.68], [172800, 'd.gtld-servers.NET', 0.68]], 65: [[172800, 'e.gtld-servers.NET', 0.68], [172800, 'e.gtld-servers.NET', 0.68], [172800, 'e.gtld-servers.NET', 0.68], [172800, 'e.gtld-servers.NET', 0.68], [172800, 'e.gtld-servers.NET', 0.68], [172800, 'e.gtld-servers.NET', 0.68], [172800, 'e.gtld-servers.NET', 0.68], [172800, 'e.gtld-servers.NET', 0.68]], 66: [[172800, 'g.gtld-servers.NET', 0.61], [172800, 'g.gtld-servers.NET', 0.61], [172800, 'g.gtld-servers.NET', 0.61], [172800, 'g.gtld-servers.NET', 0.61], [172800, 'g.gtld-servers.NET', 0.61], [172800, 'g.gtld-servers.NET', 0.61], [172800, 'g.gtld-servers.NET', 0.61], [172800, 'g.gtld-servers.NET', 0.61]], 67: [[172800, 'h.gtld-servers.NET', 0.7], [172800, 'h.gtld-servers.NET', 0.7], [172800, 'h.gtld-servers.NET', 0.7], [172800, 'h.gtld-servers.NET', 0.7], [172800, 'h.gtld-servers.NET', 0.7], [172800, 'h.gtld-servers.NET', 0.7], [172800, 'h.gtld-servers.NET', 0.7], [172800, 'h.gtld-servers.NET', 0.7]], 68: [[172800, 'i.gtld-servers.NET', 0.72], [172800, 'i.gtld-servers.NET', 0.72], [172800, 'i.gtld-servers.NET', 0.72], [172800, 'i.gtld-servers.NET', 0.72], [172800, 'i.gtld-servers.NET', 0.72], [172800, 'i.gtld-servers.NET', 0.72], [172800, 'i.gtld-servers.NET', 0.72], [172800, 'i.gtld-servers.NET', 0.72]], 69: [[172800, 'j.gtld-servers.NET', 0.68], [172800, 'j.gtld-servers.NET', 0.68], [172800, 'j.gtld-servers.NET', 0.68], [172800, 'j.gtld-servers.NET', 0.68], [172800, 'j.gtld-servers.NET', 0.68], [172800, 'j.gtld-servers.NET', 0.68], [172800, 'j.gtld-servers.NET', 0.68], [172800, 'j.gtld-servers.NET', 0.68]], 70: [[172800, 'k.gtld-servers.NET', 0.7], [172800, 'k.gtld-servers.NET', 0.7], [172800, 'k.gtld-servers.NET', 0.7], [172800, 'k.gtld-servers.NET', 0.7], [172800, 'k.gtld-servers.NET', 0.7], [172800, 'k.gtld-servers.NET', 0.7], [172800, 'k.gtld-servers.NET', 0.7], [172800, 'k.gtld-servers.NET', 0.7]], 71: [[172800, 'm.gtld-servers.NET', 0.63], [172800, 'm.gtld-servers.NET', 0.63], [172800, 'm.gtld-servers.NET', 0.63], [172800, 'm.gtld-servers.NET', 0.63], [172800, 'm.gtld-servers.NET', 0.63], [172800, 'm.gtld-servers.NET', 0.63], [172800, 'm.gtld-servers.NET', 0.63], [172800, 'm.gtld-servers.NET', 0.63]], 72: [[172800, 'NS1.NETXV.NET', 0.77], [172800, 'NS1.NETXV.NET', 0.77], [172800, 'NS1.NETXV.NET', 0.77], [172800, 'NS1.NETXV.NET', 0.77], [172800, 'NS01.SSIMICRO.COM', 0.77], [172800, 'NS01.SSIMICRO.COM', 0.77], [172800, 'NS03.SSIMICRO.COM', 0.77], [172800, 'NS03.SSIMICRO.COM', 0.77], [172800, 'NS04.SSIMICRO.COM', 0.77], [172800, 'NS04.SSIMICRO.COM', 0.77], [172800, 'NS01.SSIMICRO.COM', 0.77], [172800, 'NS01.SSIMICRO.COM', 0.77], [172800, 'NS03.SSIMICRO.COM', 0.77], [172800, 'NS03.SSIMICRO.COM', 0.77], [172800, 'NS04.SSIMICRO.COM', 0.77], [172800, 'NS04.SSIMICRO.COM', 0.77]], 73: [[7200, 'NS1.NETXV.NET', 0.65], [7200, 'NS1.NETXV.NET', 0.65], [7200, 'NS1.NETXV.NET', 0.65], [7200, 'NS1.NETXV.NET', 0.65]], 74: [[900, 'dnsadm-interno.UNINET.NET.MX', 0.76], [900, 'dnsadm-interno.UNINET.NET.MX', 0.76], [900, 'dnsadm-interno.UNINET.NET.MX', 0.76]], 75: [[43200, '78.186.249.237.static.ttnet.com.tr', 0.68], [43200, '78.180.25.17.dynamic.ttnet.com.tr', 0.68]], 76: [[172800, 'geo-ns1.kync.com', 0.61], [172800, 'geo-ns1.kync.com', 0.61], [172800, 'geo-ns1.kync.com', 0.61], [172800, 'geo-ns1.kync.com', 0.61], [350251, 'i.root-servers.net', 0.61]], 77: [[172800, 'geo-ns2.kync.com', 0.76], [172800, 'geo-ns2.kync.com', 0.76], [172800, 'geo-ns2.kync.com', 0.76], [172800, 'geo-ns2.kync.com', 0.76]], 78: [[300, 'geo-ns2.kync.com', 0.64], [300, 'geo-ns2.kync.com', 0.64]], 79: [[300, 'geo-ns1.kync.com', 0.8], [300, 'geo-ns1.kync.com', 0.8]], 80: [[3600, '192-169-118-238-customer.oowvps.com', 0.64], [23613, 'a.root-servers.net', 0.64]], 81: [[23613, 'm.root-servers.net', 0.74], [28868, 'i.root-servers.net', 0.74]], 82: [[436651, 'l.root-servers.net', 0.69], [436651, 'l.root-servers.net', 0.69]], 83: [[436651, 'd.root-servers.net', 0.78], [436651, 'd.root-servers.net', 0.78]], 84: [[436651, 'm.root-servers.net', 0.79], [436651, 'm.root-servers.net', 0.79]], 85: [[436651, 'h.root-servers.net', 0.74], [436651, 'h.root-servers.net', 0.74]], 86: [[436651, 'f.root-servers.net', 0.74], [436651, 'f.root-servers.net', 0.74]], 87: [[436651, 'a.root-servers.net', 0.73], [436651, 'a.root-servers.net', 0.73]]}\n"
     ]
    }
   ],
   "source": [
    "#Assign score values for clusters\n",
    "\n",
    "for i in range(len(new_dictionary)):\n",
    "    score = round(uniform(0.6, 0.8),2)\n",
    "    for j in range(len(new_dictionary[i])):\n",
    "        if new_dictionary[i][j][1] in list(dgaDomains['Domain']):\n",
    "            new_dictionary[i][j].append(1.0)\n",
    "        else:\n",
    "            new_dictionary[i][j].append(score)\n",
    "\n",
    "print(new_dictionary)"
   ]
  },
  {
   "cell_type": "code",
   "execution_count": 13,
   "metadata": {},
   "outputs": [
    {
     "name": "stdout",
     "output_type": "stream",
     "text": [
      "\n",
      "\t\tScores Table\n",
      "+----------+--------+-----------------------------------------+\n",
      "| User Ids | Scores |                 Domain                  |\n",
      "+==========+========+=========================================+\n",
      "| 150      | 0.530  | mtae448c7100586.mm.ks.ks.cox.net        |\n",
      "+----------+--------+-----------------------------------------+\n",
      "| 10800    | 0.530  | i5DB53810.pool.tripleplugandplay.com    |\n",
      "+----------+--------+-----------------------------------------+\n",
      "| 172800   | 0.640  | 236.Red-81-37-25.dynamicIP.rima-tde.net |\n",
      "+----------+--------+-----------------------------------------+\n",
      "| 86400    | 0.620  | gulp.arnet.com.ar                       |\n",
      "+----------+--------+-----------------------------------------+\n",
      "| 14400    | 0.550  | apache2-ps42489.ps42489.dreamhostps.com |\n",
      "+----------+--------+-----------------------------------------+\n",
      "| 23613    | 0.550  | b.root-servers.net                      |\n",
      "+----------+--------+-----------------------------------------+\n",
      "| 7200     | 0.610  | dns101.comcast.net                      |\n",
      "+----------+--------+-----------------------------------------+\n",
      "| 300      | 0.640  | ns.golden.net                           |\n",
      "+----------+--------+-----------------------------------------+\n",
      "| 900      | 0.580  | dnsadm-interno.UNINET.NET.MX            |\n",
      "+----------+--------+-----------------------------------------+\n",
      "| 436651   | 0.620  | m.root-servers.net                      |\n",
      "+----------+--------+-----------------------------------------+\n",
      "| 3600000  | 0.620  | l.root-servers.net                      |\n",
      "+----------+--------+-----------------------------------------+\n",
      "| 518400   | 0.640  | d.root-servers.net                      |\n",
      "+----------+--------+-----------------------------------------+\n",
      "| 3600     | 0.640  | nmc1.ptt.js.cn                          |\n",
      "+----------+--------+-----------------------------------------+\n",
      "| 600      | 0.580  | ns.execulink.com                        |\n",
      "+----------+--------+-----------------------------------------+\n",
      "| 345600   | 0.640  | ns.execulink.com                        |\n",
      "+----------+--------+-----------------------------------------+\n",
      "| 43200    | 0.460  | 78.186.249.237.static.ttnet.com.tr      |\n",
      "+----------+--------+-----------------------------------------+\n",
      "| 350251   | 0.370  | i.root-servers.net                      |\n",
      "+----------+--------+-----------------------------------------+\n",
      "| 28868    | 0.550  | i.root-servers.net                      |\n",
      "+----------+--------+-----------------------------------------+\n",
      "\n",
      "\n"
     ]
    }
   ],
   "source": [
    "#Finding scores for users\n",
    "\n",
    "users=[]\n",
    "for i in range(len(new_dictionary)):\n",
    "    for j in range(len(new_dictionary[i])):\n",
    "        if new_dictionary[i][j][0] not in users:\n",
    "            users.append(new_dictionary[i][j][0])\n",
    "\n",
    "maxi=[]\n",
    "domain=[]\n",
    "domainDict={}\n",
    "for i in users:\n",
    "    temp=0\n",
    "    dom=\"\"\n",
    "    for j in range(len(new_dictionary)):\n",
    "        for k in range(len(new_dictionary[j])):\n",
    "            if new_dictionary[j][k][0] not in domainDict:\n",
    "                domainDict[new_dictionary[j][k][0]] = [new_dictionary[j][k][1]]\n",
    "            else:\n",
    "                domainDict[new_dictionary[j][k][0]].append(new_dictionary[j][k][1])\n",
    "            if new_dictionary[j][k][0] == i:\n",
    "                if new_dictionary[j][k][2] > temp:\n",
    "                    temp = new_dictionary[j][k][2]\n",
    "                    dom = new_dictionary[j][k][1]\n",
    "    \n",
    "    maxi.append(temp)\n",
    "    domain.append(dom)\n",
    "\n",
    "    \n",
    "from texttable import Texttable\n",
    "\n",
    "tableList=[]\n",
    "tableList.append([\"User Ids\",\"Scores\",\"Domain\"])\n",
    "\n",
    "for i in range(len(users)):\n",
    "    maxi[i]=round(pow(maxi[i],2),2)\n",
    "    tableList.append([users[i],maxi[i],domain[i]])\n",
    "\n",
    "print(\"\\n\\t\\tScores Table\")\n",
    "table = Texttable()\n",
    "table.add_rows(tableList)\n",
    "print(table.draw())\n",
    "print(\"\\n\")\n"
   ]
  },
  {
   "cell_type": "code",
   "execution_count": 14,
   "metadata": {},
   "outputs": [
    {
     "name": "stdout",
     "output_type": "stream",
     "text": [
      "The similarity between the user 3600 and user 7200 is 0.883414931347818\n"
     ]
    }
   ],
   "source": [
    "def cosine_similarity(c1, c2):\n",
    "    terms = len(c1)\n",
    "    dotprod = sum(c1[k] * c2[k] for k in range(terms))\n",
    "    magA = math.sqrt(sum(c1[k]**2 for k in range(terms)))\n",
    "    magB = math.sqrt(sum(c2[k]**2 for k in range(terms)))\n",
    "    return dotprod / (magA * magB)\n",
    "\n",
    "domainNames = domainDict[3600][:39] + domainDict[7200]\n",
    "domainNames = number.fit_transform(domainNames)\n",
    "user1 = domainNames[:39]\n",
    "user2 = domainNames[39:]\n",
    "\n",
    "print(\"The similarity between the user 3600 and user 7200 is \",end=\"\")\n",
    "print(cosine_similarity(user1,user2))"
   ]
  }
 ],
 "metadata": {
  "kernelspec": {
   "display_name": "Python 3",
   "language": "python",
   "name": "python3"
  },
  "language_info": {
   "codemirror_mode": {
    "name": "ipython",
    "version": 3
   },
   "file_extension": ".py",
   "mimetype": "text/x-python",
   "name": "python",
   "nbconvert_exporter": "python",
   "pygments_lexer": "ipython3",
   "version": "3.8.3"
  }
 },
 "nbformat": 4,
 "nbformat_minor": 4
}
